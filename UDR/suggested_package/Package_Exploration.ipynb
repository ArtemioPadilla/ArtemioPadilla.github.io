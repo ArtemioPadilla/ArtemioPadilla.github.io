{
  "nbformat": 4,
  "nbformat_minor": 0,
  "metadata": {
    "colab": {
      "name": "Package Exploration.ipynb",
      "provenance": [],
      "collapsed_sections": [
        "I7StQk2E1liJ",
        "RbDk6h9AZkRN",
        "-T4_MK_f2xAa",
        "34tJtEWZep8u",
        "AP3LZXaX4Vi-"
      ],
      "authorship_tag": "ABX9TyMp29LDWS9Ivkjfp7RmqVfv",
      "include_colab_link": true
    },
    "kernelspec": {
      "name": "python3",
      "display_name": "Python 3"
    },
    "language_info": {
      "name": "python"
    },
    "widgets": {
      "application/vnd.jupyter.widget-state+json": {
        "3a2273718e4242a4b39619e6f9035177": {
          "model_module": "@jupyter-widgets/controls",
          "model_name": "HBoxModel",
          "model_module_version": "1.5.0",
          "state": {
            "_dom_classes": [],
            "_model_module": "@jupyter-widgets/controls",
            "_model_module_version": "1.5.0",
            "_model_name": "HBoxModel",
            "_view_count": null,
            "_view_module": "@jupyter-widgets/controls",
            "_view_module_version": "1.5.0",
            "_view_name": "HBoxView",
            "box_style": "",
            "children": [
              "IPY_MODEL_d86ecad0501a4444bad5f69cd9c61ec5",
              "IPY_MODEL_59178bad60e0445caff0726aeaa65fc6",
              "IPY_MODEL_d2b19abbf8a5439bb1e0608b4a784d67"
            ],
            "layout": "IPY_MODEL_3d4d5547ff4c4243b852a9b3d07be389"
          }
        },
        "d86ecad0501a4444bad5f69cd9c61ec5": {
          "model_module": "@jupyter-widgets/controls",
          "model_name": "HTMLModel",
          "model_module_version": "1.5.0",
          "state": {
            "_dom_classes": [],
            "_model_module": "@jupyter-widgets/controls",
            "_model_module_version": "1.5.0",
            "_model_name": "HTMLModel",
            "_view_count": null,
            "_view_module": "@jupyter-widgets/controls",
            "_view_module_version": "1.5.0",
            "_view_name": "HTMLView",
            "description": "",
            "description_tooltip": null,
            "layout": "IPY_MODEL_d295e55226824dbb8de8ceaacc2ed3f6",
            "placeholder": "​",
            "style": "IPY_MODEL_f8df24dee5494ac1820d2929a80db263",
            "value": "Creating Ranking Matrix: 100%"
          }
        },
        "59178bad60e0445caff0726aeaa65fc6": {
          "model_module": "@jupyter-widgets/controls",
          "model_name": "FloatProgressModel",
          "model_module_version": "1.5.0",
          "state": {
            "_dom_classes": [],
            "_model_module": "@jupyter-widgets/controls",
            "_model_module_version": "1.5.0",
            "_model_name": "FloatProgressModel",
            "_view_count": null,
            "_view_module": "@jupyter-widgets/controls",
            "_view_module_version": "1.5.0",
            "_view_name": "ProgressView",
            "bar_style": "success",
            "description": "",
            "description_tooltip": null,
            "layout": "IPY_MODEL_2c0a062321a744bbaee867b29f626801",
            "max": 534,
            "min": 0,
            "orientation": "horizontal",
            "style": "IPY_MODEL_21746c5a5d28407d9a6430e8ee0028a4",
            "value": 534
          }
        },
        "d2b19abbf8a5439bb1e0608b4a784d67": {
          "model_module": "@jupyter-widgets/controls",
          "model_name": "HTMLModel",
          "model_module_version": "1.5.0",
          "state": {
            "_dom_classes": [],
            "_model_module": "@jupyter-widgets/controls",
            "_model_module_version": "1.5.0",
            "_model_name": "HTMLModel",
            "_view_count": null,
            "_view_module": "@jupyter-widgets/controls",
            "_view_module_version": "1.5.0",
            "_view_name": "HTMLView",
            "description": "",
            "description_tooltip": null,
            "layout": "IPY_MODEL_b2b2dbcf1ee145af9f3fc02e936b9cb7",
            "placeholder": "​",
            "style": "IPY_MODEL_8f6c60599b5f457d989f331dc6e92091",
            "value": " 534/534 [00:22&lt;00:00, 34.83it/s]"
          }
        },
        "3d4d5547ff4c4243b852a9b3d07be389": {
          "model_module": "@jupyter-widgets/base",
          "model_name": "LayoutModel",
          "model_module_version": "1.2.0",
          "state": {
            "_model_module": "@jupyter-widgets/base",
            "_model_module_version": "1.2.0",
            "_model_name": "LayoutModel",
            "_view_count": null,
            "_view_module": "@jupyter-widgets/base",
            "_view_module_version": "1.2.0",
            "_view_name": "LayoutView",
            "align_content": null,
            "align_items": null,
            "align_self": null,
            "border": null,
            "bottom": null,
            "display": null,
            "flex": null,
            "flex_flow": null,
            "grid_area": null,
            "grid_auto_columns": null,
            "grid_auto_flow": null,
            "grid_auto_rows": null,
            "grid_column": null,
            "grid_gap": null,
            "grid_row": null,
            "grid_template_areas": null,
            "grid_template_columns": null,
            "grid_template_rows": null,
            "height": null,
            "justify_content": null,
            "justify_items": null,
            "left": null,
            "margin": null,
            "max_height": null,
            "max_width": null,
            "min_height": null,
            "min_width": null,
            "object_fit": null,
            "object_position": null,
            "order": null,
            "overflow": null,
            "overflow_x": null,
            "overflow_y": null,
            "padding": null,
            "right": null,
            "top": null,
            "visibility": null,
            "width": null
          }
        },
        "d295e55226824dbb8de8ceaacc2ed3f6": {
          "model_module": "@jupyter-widgets/base",
          "model_name": "LayoutModel",
          "model_module_version": "1.2.0",
          "state": {
            "_model_module": "@jupyter-widgets/base",
            "_model_module_version": "1.2.0",
            "_model_name": "LayoutModel",
            "_view_count": null,
            "_view_module": "@jupyter-widgets/base",
            "_view_module_version": "1.2.0",
            "_view_name": "LayoutView",
            "align_content": null,
            "align_items": null,
            "align_self": null,
            "border": null,
            "bottom": null,
            "display": null,
            "flex": null,
            "flex_flow": null,
            "grid_area": null,
            "grid_auto_columns": null,
            "grid_auto_flow": null,
            "grid_auto_rows": null,
            "grid_column": null,
            "grid_gap": null,
            "grid_row": null,
            "grid_template_areas": null,
            "grid_template_columns": null,
            "grid_template_rows": null,
            "height": null,
            "justify_content": null,
            "justify_items": null,
            "left": null,
            "margin": null,
            "max_height": null,
            "max_width": null,
            "min_height": null,
            "min_width": null,
            "object_fit": null,
            "object_position": null,
            "order": null,
            "overflow": null,
            "overflow_x": null,
            "overflow_y": null,
            "padding": null,
            "right": null,
            "top": null,
            "visibility": null,
            "width": null
          }
        },
        "f8df24dee5494ac1820d2929a80db263": {
          "model_module": "@jupyter-widgets/controls",
          "model_name": "DescriptionStyleModel",
          "model_module_version": "1.5.0",
          "state": {
            "_model_module": "@jupyter-widgets/controls",
            "_model_module_version": "1.5.0",
            "_model_name": "DescriptionStyleModel",
            "_view_count": null,
            "_view_module": "@jupyter-widgets/base",
            "_view_module_version": "1.2.0",
            "_view_name": "StyleView",
            "description_width": ""
          }
        },
        "2c0a062321a744bbaee867b29f626801": {
          "model_module": "@jupyter-widgets/base",
          "model_name": "LayoutModel",
          "model_module_version": "1.2.0",
          "state": {
            "_model_module": "@jupyter-widgets/base",
            "_model_module_version": "1.2.0",
            "_model_name": "LayoutModel",
            "_view_count": null,
            "_view_module": "@jupyter-widgets/base",
            "_view_module_version": "1.2.0",
            "_view_name": "LayoutView",
            "align_content": null,
            "align_items": null,
            "align_self": null,
            "border": null,
            "bottom": null,
            "display": null,
            "flex": null,
            "flex_flow": null,
            "grid_area": null,
            "grid_auto_columns": null,
            "grid_auto_flow": null,
            "grid_auto_rows": null,
            "grid_column": null,
            "grid_gap": null,
            "grid_row": null,
            "grid_template_areas": null,
            "grid_template_columns": null,
            "grid_template_rows": null,
            "height": null,
            "justify_content": null,
            "justify_items": null,
            "left": null,
            "margin": null,
            "max_height": null,
            "max_width": null,
            "min_height": null,
            "min_width": null,
            "object_fit": null,
            "object_position": null,
            "order": null,
            "overflow": null,
            "overflow_x": null,
            "overflow_y": null,
            "padding": null,
            "right": null,
            "top": null,
            "visibility": null,
            "width": null
          }
        },
        "21746c5a5d28407d9a6430e8ee0028a4": {
          "model_module": "@jupyter-widgets/controls",
          "model_name": "ProgressStyleModel",
          "model_module_version": "1.5.0",
          "state": {
            "_model_module": "@jupyter-widgets/controls",
            "_model_module_version": "1.5.0",
            "_model_name": "ProgressStyleModel",
            "_view_count": null,
            "_view_module": "@jupyter-widgets/base",
            "_view_module_version": "1.2.0",
            "_view_name": "StyleView",
            "bar_color": null,
            "description_width": ""
          }
        },
        "b2b2dbcf1ee145af9f3fc02e936b9cb7": {
          "model_module": "@jupyter-widgets/base",
          "model_name": "LayoutModel",
          "model_module_version": "1.2.0",
          "state": {
            "_model_module": "@jupyter-widgets/base",
            "_model_module_version": "1.2.0",
            "_model_name": "LayoutModel",
            "_view_count": null,
            "_view_module": "@jupyter-widgets/base",
            "_view_module_version": "1.2.0",
            "_view_name": "LayoutView",
            "align_content": null,
            "align_items": null,
            "align_self": null,
            "border": null,
            "bottom": null,
            "display": null,
            "flex": null,
            "flex_flow": null,
            "grid_area": null,
            "grid_auto_columns": null,
            "grid_auto_flow": null,
            "grid_auto_rows": null,
            "grid_column": null,
            "grid_gap": null,
            "grid_row": null,
            "grid_template_areas": null,
            "grid_template_columns": null,
            "grid_template_rows": null,
            "height": null,
            "justify_content": null,
            "justify_items": null,
            "left": null,
            "margin": null,
            "max_height": null,
            "max_width": null,
            "min_height": null,
            "min_width": null,
            "object_fit": null,
            "object_position": null,
            "order": null,
            "overflow": null,
            "overflow_x": null,
            "overflow_y": null,
            "padding": null,
            "right": null,
            "top": null,
            "visibility": null,
            "width": null
          }
        },
        "8f6c60599b5f457d989f331dc6e92091": {
          "model_module": "@jupyter-widgets/controls",
          "model_name": "DescriptionStyleModel",
          "model_module_version": "1.5.0",
          "state": {
            "_model_module": "@jupyter-widgets/controls",
            "_model_module_version": "1.5.0",
            "_model_name": "DescriptionStyleModel",
            "_view_count": null,
            "_view_module": "@jupyter-widgets/base",
            "_view_module_version": "1.2.0",
            "_view_name": "StyleView",
            "description_width": ""
          }
        },
        "ef15f282f87640afaeb6935ea5a698f1": {
          "model_module": "@jupyter-widgets/controls",
          "model_name": "HBoxModel",
          "model_module_version": "1.5.0",
          "state": {
            "_dom_classes": [],
            "_model_module": "@jupyter-widgets/controls",
            "_model_module_version": "1.5.0",
            "_model_name": "HBoxModel",
            "_view_count": null,
            "_view_module": "@jupyter-widgets/controls",
            "_view_module_version": "1.5.0",
            "_view_name": "HBoxView",
            "box_style": "",
            "children": [
              "IPY_MODEL_6917c1a063b9473581bae150cc6105e8",
              "IPY_MODEL_d7eb13c1a51b49a6853db7da4cea411a",
              "IPY_MODEL_c2070b88a9d04bab9972586a3c14292e"
            ],
            "layout": "IPY_MODEL_11e4ff8afb724490baa3e29c02e600f8"
          }
        },
        "6917c1a063b9473581bae150cc6105e8": {
          "model_module": "@jupyter-widgets/controls",
          "model_name": "HTMLModel",
          "model_module_version": "1.5.0",
          "state": {
            "_dom_classes": [],
            "_model_module": "@jupyter-widgets/controls",
            "_model_module_version": "1.5.0",
            "_model_name": "HTMLModel",
            "_view_count": null,
            "_view_module": "@jupyter-widgets/controls",
            "_view_module_version": "1.5.0",
            "_view_name": "HTMLView",
            "description": "",
            "description_tooltip": null,
            "layout": "IPY_MODEL_753c026817ae49cd873305209ce7ddff",
            "placeholder": "​",
            "style": "IPY_MODEL_fe20bcff97604ed7be06415e114bd914",
            "value": "Creating Ranking Matrix:  20%"
          }
        },
        "d7eb13c1a51b49a6853db7da4cea411a": {
          "model_module": "@jupyter-widgets/controls",
          "model_name": "FloatProgressModel",
          "model_module_version": "1.5.0",
          "state": {
            "_dom_classes": [],
            "_model_module": "@jupyter-widgets/controls",
            "_model_module_version": "1.5.0",
            "_model_name": "FloatProgressModel",
            "_view_count": null,
            "_view_module": "@jupyter-widgets/controls",
            "_view_module_version": "1.5.0",
            "_view_name": "ProgressView",
            "bar_style": "",
            "description": "",
            "description_tooltip": null,
            "layout": "IPY_MODEL_6e87c5847e2a436697808062e8c34f83",
            "max": 534,
            "min": 0,
            "orientation": "horizontal",
            "style": "IPY_MODEL_eeaf0cb49562497e8a74fd960ebde3f9",
            "value": 109
          }
        },
        "c2070b88a9d04bab9972586a3c14292e": {
          "model_module": "@jupyter-widgets/controls",
          "model_name": "HTMLModel",
          "model_module_version": "1.5.0",
          "state": {
            "_dom_classes": [],
            "_model_module": "@jupyter-widgets/controls",
            "_model_module_version": "1.5.0",
            "_model_name": "HTMLModel",
            "_view_count": null,
            "_view_module": "@jupyter-widgets/controls",
            "_view_module_version": "1.5.0",
            "_view_name": "HTMLView",
            "description": "",
            "description_tooltip": null,
            "layout": "IPY_MODEL_29f7847f02fc4a978088a4cd12ccd44f",
            "placeholder": "​",
            "style": "IPY_MODEL_d730bdab021940bdbc1bc9a9b71c8c2b",
            "value": " 109/534 [01:29&lt;06:02,  1.17it/s]"
          }
        },
        "11e4ff8afb724490baa3e29c02e600f8": {
          "model_module": "@jupyter-widgets/base",
          "model_name": "LayoutModel",
          "model_module_version": "1.2.0",
          "state": {
            "_model_module": "@jupyter-widgets/base",
            "_model_module_version": "1.2.0",
            "_model_name": "LayoutModel",
            "_view_count": null,
            "_view_module": "@jupyter-widgets/base",
            "_view_module_version": "1.2.0",
            "_view_name": "LayoutView",
            "align_content": null,
            "align_items": null,
            "align_self": null,
            "border": null,
            "bottom": null,
            "display": null,
            "flex": null,
            "flex_flow": null,
            "grid_area": null,
            "grid_auto_columns": null,
            "grid_auto_flow": null,
            "grid_auto_rows": null,
            "grid_column": null,
            "grid_gap": null,
            "grid_row": null,
            "grid_template_areas": null,
            "grid_template_columns": null,
            "grid_template_rows": null,
            "height": null,
            "justify_content": null,
            "justify_items": null,
            "left": null,
            "margin": null,
            "max_height": null,
            "max_width": null,
            "min_height": null,
            "min_width": null,
            "object_fit": null,
            "object_position": null,
            "order": null,
            "overflow": null,
            "overflow_x": null,
            "overflow_y": null,
            "padding": null,
            "right": null,
            "top": null,
            "visibility": null,
            "width": null
          }
        },
        "753c026817ae49cd873305209ce7ddff": {
          "model_module": "@jupyter-widgets/base",
          "model_name": "LayoutModel",
          "model_module_version": "1.2.0",
          "state": {
            "_model_module": "@jupyter-widgets/base",
            "_model_module_version": "1.2.0",
            "_model_name": "LayoutModel",
            "_view_count": null,
            "_view_module": "@jupyter-widgets/base",
            "_view_module_version": "1.2.0",
            "_view_name": "LayoutView",
            "align_content": null,
            "align_items": null,
            "align_self": null,
            "border": null,
            "bottom": null,
            "display": null,
            "flex": null,
            "flex_flow": null,
            "grid_area": null,
            "grid_auto_columns": null,
            "grid_auto_flow": null,
            "grid_auto_rows": null,
            "grid_column": null,
            "grid_gap": null,
            "grid_row": null,
            "grid_template_areas": null,
            "grid_template_columns": null,
            "grid_template_rows": null,
            "height": null,
            "justify_content": null,
            "justify_items": null,
            "left": null,
            "margin": null,
            "max_height": null,
            "max_width": null,
            "min_height": null,
            "min_width": null,
            "object_fit": null,
            "object_position": null,
            "order": null,
            "overflow": null,
            "overflow_x": null,
            "overflow_y": null,
            "padding": null,
            "right": null,
            "top": null,
            "visibility": null,
            "width": null
          }
        },
        "fe20bcff97604ed7be06415e114bd914": {
          "model_module": "@jupyter-widgets/controls",
          "model_name": "DescriptionStyleModel",
          "model_module_version": "1.5.0",
          "state": {
            "_model_module": "@jupyter-widgets/controls",
            "_model_module_version": "1.5.0",
            "_model_name": "DescriptionStyleModel",
            "_view_count": null,
            "_view_module": "@jupyter-widgets/base",
            "_view_module_version": "1.2.0",
            "_view_name": "StyleView",
            "description_width": ""
          }
        },
        "6e87c5847e2a436697808062e8c34f83": {
          "model_module": "@jupyter-widgets/base",
          "model_name": "LayoutModel",
          "model_module_version": "1.2.0",
          "state": {
            "_model_module": "@jupyter-widgets/base",
            "_model_module_version": "1.2.0",
            "_model_name": "LayoutModel",
            "_view_count": null,
            "_view_module": "@jupyter-widgets/base",
            "_view_module_version": "1.2.0",
            "_view_name": "LayoutView",
            "align_content": null,
            "align_items": null,
            "align_self": null,
            "border": null,
            "bottom": null,
            "display": null,
            "flex": null,
            "flex_flow": null,
            "grid_area": null,
            "grid_auto_columns": null,
            "grid_auto_flow": null,
            "grid_auto_rows": null,
            "grid_column": null,
            "grid_gap": null,
            "grid_row": null,
            "grid_template_areas": null,
            "grid_template_columns": null,
            "grid_template_rows": null,
            "height": null,
            "justify_content": null,
            "justify_items": null,
            "left": null,
            "margin": null,
            "max_height": null,
            "max_width": null,
            "min_height": null,
            "min_width": null,
            "object_fit": null,
            "object_position": null,
            "order": null,
            "overflow": null,
            "overflow_x": null,
            "overflow_y": null,
            "padding": null,
            "right": null,
            "top": null,
            "visibility": null,
            "width": null
          }
        },
        "eeaf0cb49562497e8a74fd960ebde3f9": {
          "model_module": "@jupyter-widgets/controls",
          "model_name": "ProgressStyleModel",
          "model_module_version": "1.5.0",
          "state": {
            "_model_module": "@jupyter-widgets/controls",
            "_model_module_version": "1.5.0",
            "_model_name": "ProgressStyleModel",
            "_view_count": null,
            "_view_module": "@jupyter-widgets/base",
            "_view_module_version": "1.2.0",
            "_view_name": "StyleView",
            "bar_color": null,
            "description_width": ""
          }
        },
        "29f7847f02fc4a978088a4cd12ccd44f": {
          "model_module": "@jupyter-widgets/base",
          "model_name": "LayoutModel",
          "model_module_version": "1.2.0",
          "state": {
            "_model_module": "@jupyter-widgets/base",
            "_model_module_version": "1.2.0",
            "_model_name": "LayoutModel",
            "_view_count": null,
            "_view_module": "@jupyter-widgets/base",
            "_view_module_version": "1.2.0",
            "_view_name": "LayoutView",
            "align_content": null,
            "align_items": null,
            "align_self": null,
            "border": null,
            "bottom": null,
            "display": null,
            "flex": null,
            "flex_flow": null,
            "grid_area": null,
            "grid_auto_columns": null,
            "grid_auto_flow": null,
            "grid_auto_rows": null,
            "grid_column": null,
            "grid_gap": null,
            "grid_row": null,
            "grid_template_areas": null,
            "grid_template_columns": null,
            "grid_template_rows": null,
            "height": null,
            "justify_content": null,
            "justify_items": null,
            "left": null,
            "margin": null,
            "max_height": null,
            "max_width": null,
            "min_height": null,
            "min_width": null,
            "object_fit": null,
            "object_position": null,
            "order": null,
            "overflow": null,
            "overflow_x": null,
            "overflow_y": null,
            "padding": null,
            "right": null,
            "top": null,
            "visibility": null,
            "width": null
          }
        },
        "d730bdab021940bdbc1bc9a9b71c8c2b": {
          "model_module": "@jupyter-widgets/controls",
          "model_name": "DescriptionStyleModel",
          "model_module_version": "1.5.0",
          "state": {
            "_model_module": "@jupyter-widgets/controls",
            "_model_module_version": "1.5.0",
            "_model_name": "DescriptionStyleModel",
            "_view_count": null,
            "_view_module": "@jupyter-widgets/base",
            "_view_module_version": "1.2.0",
            "_view_name": "StyleView",
            "description_width": ""
          }
        }
      }
    }
  },
  "cells": [
    {
      "cell_type": "markdown",
      "metadata": {
        "id": "view-in-github",
        "colab_type": "text"
      },
      "source": [
        "<a href=\"https://colab.research.google.com/github/ArtemioPadilla/ArtemioPadilla.github.io/blob/main/UDR/suggested_package/Package_Exploration.ipynb\" target=\"_parent\"><img src=\"https://colab.research.google.com/assets/colab-badge.svg\" alt=\"Open In Colab\"/></a>"
      ]
    },
    {
      "cell_type": "markdown",
      "source": [
        "Import Universal Dynamics of Ranking (UDR):"
      ],
      "metadata": {
        "id": "KkSyFDicsFkg"
      }
    },
    {
      "cell_type": "code",
      "source": [
        "! unzip \"/content/package.zip\" -d \"/content/tmp\"\n",
        "! mv /content/tmp/package /content/fullpackage\n",
        "! rm -r /content/tmp\n",
        "! cp -r /content/fullpackage/src/UDR/ /content/UDR/"
      ],
      "metadata": {
        "colab": {
          "base_uri": "https://localhost:8080/"
        },
        "id": "gYs0PxZksIxs",
        "outputId": "4c91da78-a615-4db0-b56a-abbba2cbd619"
      },
      "execution_count": null,
      "outputs": [
        {
          "output_type": "stream",
          "name": "stdout",
          "text": [
            "Archive:  /content/package.zip\n",
            "   creating: /content/tmp/package/\n",
            "  inflating: /content/tmp/package/LICENSE  \n",
            "  inflating: /content/tmp/package/README.md  \n",
            "  inflating: /content/tmp/package/pyproject.toml  \n",
            "  inflating: /content/tmp/package/setup.cfg  \n",
            "  inflating: /content/tmp/package/all_functions.md  \n",
            "   creating: /content/tmp/package/dist/\n",
            "  inflating: /content/tmp/package/dist/example-package-artemiop-0.0.1.tar.gz  \n",
            "  inflating: /content/tmp/package/dist/example_package_artemiop-0.0.1-py3-none-any.whl  \n",
            "   creating: /content/tmp/package/src/\n",
            "  inflating: /content/tmp/package/src/DNA Example.ipynb  \n",
            "   creating: /content/tmp/package/src/UDR/\n",
            "  inflating: /content/tmp/package/src/UDR/__init__.py  \n",
            "   creating: /content/tmp/package/src/UDR/metrics/\n",
            "  inflating: /content/tmp/package/src/UDR/metrics/__init__.py  \n",
            "  inflating: /content/tmp/package/src/UDR/metrics/theo.py  \n",
            "  inflating: /content/tmp/package/src/UDR/metrics/models.py  \n",
            "  inflating: /content/tmp/package/src/UDR/metrics/readme.md  \n",
            "  inflating: /content/tmp/package/src/UDR/metrics/empirical.py  \n",
            "   creating: /content/tmp/package/src/UDR/models/\n",
            "  inflating: /content/tmp/package/src/UDR/models/uniform.py  \n",
            "  inflating: /content/tmp/package/src/UDR/models/__init__.py  \n",
            "  inflating: /content/tmp/package/src/UDR/models/readme.md  \n",
            "   creating: /content/tmp/package/src/UDR/rank/\n",
            "  inflating: /content/tmp/package/src/UDR/rank/string.py  \n",
            "  inflating: /content/tmp/package/src/UDR/rank/rank_matrix.py  \n",
            "  inflating: /content/tmp/package/src/UDR/rank/__init__.py  \n",
            "  inflating: /content/tmp/package/src/UDR/rank/readme.md  \n"
          ]
        }
      ]
    },
    {
      "cell_type": "code",
      "source": [
        "import sys\n",
        "# insert at 1, 0 is the script path (or '' in REPL)\n",
        "sys.path.insert(1, '/content/UDR')"
      ],
      "metadata": {
        "id": "0TvGeewLy9w6"
      },
      "execution_count": null,
      "outputs": []
    },
    {
      "cell_type": "code",
      "source": [
        "! apt-get install tree"
      ],
      "metadata": {
        "colab": {
          "base_uri": "https://localhost:8080/"
        },
        "id": "5Dbiw9M2rKBo",
        "outputId": "f37a2d5b-ae6e-4bf3-fb7b-2472a844142b"
      },
      "execution_count": null,
      "outputs": [
        {
          "output_type": "stream",
          "name": "stdout",
          "text": [
            "Reading package lists... Done\n",
            "Building dependency tree       \n",
            "Reading state information... Done\n",
            "The following NEW packages will be installed:\n",
            "  tree\n",
            "0 upgraded, 1 newly installed, 0 to remove and 39 not upgraded.\n",
            "Need to get 40.7 kB of archives.\n",
            "After this operation, 105 kB of additional disk space will be used.\n",
            "Get:1 http://archive.ubuntu.com/ubuntu bionic/universe amd64 tree amd64 1.7.0-5 [40.7 kB]\n",
            "Fetched 40.7 kB in 0s (122 kB/s)\n",
            "Selecting previously unselected package tree.\n",
            "(Reading database ... 156210 files and directories currently installed.)\n",
            "Preparing to unpack .../tree_1.7.0-5_amd64.deb ...\n",
            "Unpacking tree (1.7.0-5) ...\n",
            "Setting up tree (1.7.0-5) ...\n",
            "Processing triggers for man-db (2.8.3-2ubuntu0.1) ...\n"
          ]
        }
      ]
    },
    {
      "cell_type": "code",
      "source": [
        "! tree fullpackage"
      ],
      "metadata": {
        "colab": {
          "base_uri": "https://localhost:8080/"
        },
        "id": "UrtZVfGargRP",
        "outputId": "eb437228-cc8e-421a-e964-492cd0c72813"
      },
      "execution_count": null,
      "outputs": [
        {
          "output_type": "stream",
          "name": "stdout",
          "text": [
            "fullpackage\n",
            "├── all_functions.md\n",
            "├── dist\n",
            "│   ├── example_package_artemiop-0.0.1-py3-none-any.whl\n",
            "│   └── example-package-artemiop-0.0.1.tar.gz\n",
            "├── LICENSE\n",
            "├── pyproject.toml\n",
            "├── README.md\n",
            "├── setup.cfg\n",
            "└── src\n",
            "    ├── DNA Example.ipynb\n",
            "    └── UDR\n",
            "        ├── __init__.py\n",
            "        ├── metrics\n",
            "        │   ├── empirical.py\n",
            "        │   ├── __init__.py\n",
            "        │   ├── models.py\n",
            "        │   ├── readme.md\n",
            "        │   └── theo.py\n",
            "        ├── models\n",
            "        │   ├── __init__.py\n",
            "        │   ├── readme.md\n",
            "        │   └── uniform.py\n",
            "        └── rank\n",
            "            ├── __init__.py\n",
            "            ├── rank_matrix.py\n",
            "            ├── readme.md\n",
            "            └── string.py\n",
            "\n",
            "6 directories, 21 files\n"
          ]
        }
      ]
    },
    {
      "cell_type": "markdown",
      "source": [
        "# Package tree"
      ],
      "metadata": {
        "id": "eDD2P6CowQ1q"
      }
    },
    {
      "cell_type": "code",
      "source": [
        "! tree UDR"
      ],
      "metadata": {
        "colab": {
          "base_uri": "https://localhost:8080/"
        },
        "id": "JwH3INARrRAm",
        "outputId": "aa087e76-0972-49ad-a6cc-15f47fb7b32f"
      },
      "execution_count": null,
      "outputs": [
        {
          "output_type": "stream",
          "name": "stdout",
          "text": [
            "UDR\n",
            "├── __init__.py\n",
            "├── metrics\n",
            "│   ├── empirical.py\n",
            "│   ├── __init__.py\n",
            "│   ├── models.py\n",
            "│   ├── readme.md\n",
            "│   └── theo.py\n",
            "├── models\n",
            "│   ├── __init__.py\n",
            "│   ├── readme.md\n",
            "│   └── uniform.py\n",
            "└── rank\n",
            "    ├── __init__.py\n",
            "    ├── rank_matrix.py\n",
            "    ├── readme.md\n",
            "    └── string.py\n",
            "\n",
            "3 directories, 13 files\n"
          ]
        }
      ]
    },
    {
      "cell_type": "markdown",
      "source": [
        "\n",
        "# Package\n"
      ],
      "metadata": {
        "id": "3FpHwobUvvqc"
      }
    },
    {
      "cell_type": "markdown",
      "source": [
        "## Metrics"
      ],
      "metadata": {
        "id": "zcdlCQhSvyCA"
      }
    },
    {
      "cell_type": "markdown",
      "source": [
        "\n",
        "### empirical\n",
        "- get_data_params  `documented inputs & outputs`\n"
      ],
      "metadata": {
        "id": "fl00GDI_zF3W"
      }
    },
    {
      "cell_type": "markdown",
      "source": [
        "### theo (Theoretical)\n",
        "\n",
        "- ?"
      ],
      "metadata": {
        "id": "gBwqaRBRv3pF"
      }
    },
    {
      "cell_type": "markdown",
      "source": [
        "\n",
        "### models\n",
        "\n",
        "- get_flux_props\n",
        "- get_rank_props\n",
        "- get_open_props\n",
        "- get_disp_props\n",
        "- get_disp_time_props\n",
        "- get_succ_props\n",
        "- get_samp_props\n",
        "- get_MLE_props\n",
        "- get_tran_props"
      ],
      "metadata": {
        "id": "wRmEbUUTv3m8"
      }
    },
    {
      "cell_type": "markdown",
      "source": [
        "## models\n"
      ],
      "metadata": {
        "id": "PeFYOjxMwf8i"
      }
    },
    {
      "cell_type": "markdown",
      "source": [
        "### uniform\n",
        "\n",
        "- null_model    \n",
        "    - `documented inputs & outputs` readme and notebook   \n",
        "    - `documented procedure` readme and notebook\n",
        "\n",
        "- model_props  \n",
        "    - `documented inputs & outputs` readme and notebook\n",
        "    - `documented procedure` readme and notebook\n",
        "\n",
        "- rank_freq_rel"
      ],
      "metadata": {
        "id": "X4eXqW3KwkBH"
      }
    },
    {
      "cell_type": "markdown",
      "source": [
        "## rank"
      ],
      "metadata": {
        "id": "kG04CFqZwmvU"
      }
    },
    {
      "cell_type": "markdown",
      "source": [
        "### strings\n",
        "\n",
        "- rank_subsequences\n",
        "    - `documented inputs & outputs` readme\n",
        "\n",
        "- get_ngrams\n",
        "    - `documented inputs & outputs` readme\n",
        "\n",
        "\n",
        "### rank_matrix\n",
        "\n",
        "- get_rank_matrix\n",
        "    - `documented inputs & outputs` readme\n",
        "\n"
      ],
      "metadata": {
        "id": "xe3flMfwyPZ2"
      }
    },
    {
      "cell_type": "markdown",
      "source": [
        "\n",
        "# Functions from original Repo to integrate and document\n"
      ],
      "metadata": {
        "id": "LK6EWOO6v3hD"
      }
    },
    {
      "cell_type": "markdown",
      "source": [
        "## data_misc.py:\n",
        "\n",
        "- data_params\n",
        "- data_intervals\n",
        "- data_series\n",
        "- data_params_sample\n",
        "- data_scores\n",
        "- data_props\n",
        "- data_estimate_PD_theo\n",
        "- data_estimate_params_theo\n",
        "- data_estimate_params_all\n",
        "- data_estimate_params_devs\n",
        "- data_estimate_params_sample\n",
        "- data_estimate_params_MLE\n",
        "- data_estimate_PD\n",
        "- data_estimate_params"
      ],
      "metadata": {
        "id": "O8TqyL7mv3eM"
      }
    },
    {
      "cell_type": "markdown",
      "source": [
        "\n",
        "## model_misc.py:\n",
        "\n",
        "\n",
        "- flux_theo\n",
        "- success_theo\n",
        "- success_time_theo\n",
        "- openness_theo\n",
        "- openness_time_theo\n",
        "- open_deriv_theo\n",
        "- N_est_theo\n",
        "- displacement_theo\n",
        "- disp_time_theo\n",
        "- change_theo\n",
        "- flux_out_theo        \n",
        "- estimate_params_all\n",
        "- estimate_params_size\n",
        "- estimate_params_MLE"
      ],
      "metadata": {
        "id": "AKXcKPXlv3bp"
      }
    },
    {
      "cell_type": "markdown",
      "source": [
        "\n",
        "## props_misc.py:\n",
        "`done`"
      ],
      "metadata": {
        "id": "7UVrnf_rwLPN"
      }
    },
    {
      "cell_type": "markdown",
      "source": [
        "# Use case"
      ],
      "metadata": {
        "id": "AQrFYzPm1NVP"
      }
    },
    {
      "cell_type": "code",
      "source": [
        "import UDR"
      ],
      "metadata": {
        "id": "4-i-E4jhvqkv"
      },
      "execution_count": null,
      "outputs": []
    },
    {
      "cell_type": "markdown",
      "source": [
        "Other Imports"
      ],
      "metadata": {
        "id": "3MG0tFoLvrhF"
      }
    },
    {
      "cell_type": "code",
      "source": [
        "! pip install jsonlines"
      ],
      "metadata": {
        "colab": {
          "base_uri": "https://localhost:8080/"
        },
        "id": "X803hedT5xhh",
        "outputId": "8d50dc4e-87eb-4326-a310-02403afd43a7"
      },
      "execution_count": null,
      "outputs": [
        {
          "output_type": "stream",
          "name": "stdout",
          "text": [
            "Collecting jsonlines\n",
            "  Downloading jsonlines-3.0.0-py3-none-any.whl (8.5 kB)\n",
            "Requirement already satisfied: typing-extensions in /usr/local/lib/python3.7/dist-packages (from jsonlines) (3.10.0.2)\n",
            "Requirement already satisfied: attrs>=19.2.0 in /usr/local/lib/python3.7/dist-packages (from jsonlines) (21.4.0)\n",
            "Installing collected packages: jsonlines\n",
            "Successfully installed jsonlines-3.0.0\n"
          ]
        }
      ]
    },
    {
      "cell_type": "code",
      "source": [
        "import re\n",
        "import json\n",
        "import jsonlines\n",
        "import zipfile\n",
        "import pandas as pd"
      ],
      "metadata": {
        "id": "zphirdtJK6bF"
      },
      "execution_count": null,
      "outputs": []
    },
    {
      "cell_type": "code",
      "source": [
        "pip install --upgrade ncbi-datasets-pylib"
      ],
      "metadata": {
        "colab": {
          "base_uri": "https://localhost:8080/",
          "height": 1000
        },
        "id": "PN5YS4gd4vHP",
        "outputId": "c0065fee-9a4e-4754-f9a0-6a8fcaf2d5fd"
      },
      "execution_count": null,
      "outputs": [
        {
          "output_type": "stream",
          "name": "stdout",
          "text": [
            "Collecting ncbi-datasets-pylib\n",
            "  Downloading ncbi-datasets-pylib-13.7.0.tar.gz (294 kB)\n",
            "\u001b[K     |████████████████████████████████| 294 kB 5.2 MB/s \n",
            "\u001b[?25hCollecting cachetools==5.0.0\n",
            "  Downloading cachetools-5.0.0-py3-none-any.whl (9.1 kB)\n",
            "Collecting gffutils==0.10.1\n",
            "  Downloading gffutils-0.10.1.tar.gz (1.5 MB)\n",
            "\u001b[K     |████████████████████████████████| 1.5 MB 46.6 MB/s \n",
            "\u001b[?25hCollecting Jinja2==3.0.3\n",
            "  Downloading Jinja2-3.0.3-py3-none-any.whl (133 kB)\n",
            "\u001b[K     |████████████████████████████████| 133 kB 41.3 MB/s \n",
            "\u001b[?25hRequirement already satisfied: jsonlines==3.0.0 in /usr/local/lib/python3.7/dist-packages (from ncbi-datasets-pylib) (3.0.0)\n",
            "Collecting protobuf==3.19.4\n",
            "  Downloading protobuf-3.19.4-cp37-cp37m-manylinux_2_17_x86_64.manylinux2014_x86_64.whl (1.1 MB)\n",
            "\u001b[K     |████████████████████████████████| 1.1 MB 22.1 MB/s \n",
            "\u001b[?25hRequirement already satisfied: python_dateutil==2.8.2 in /usr/local/lib/python3.7/dist-packages (from ncbi-datasets-pylib) (2.8.2)\n",
            "Requirement already satisfied: setuptools>=21.0.0 in /usr/local/lib/python3.7/dist-packages (from ncbi-datasets-pylib) (57.4.0)\n",
            "Collecting urllib3>=1.25.3\n",
            "  Downloading urllib3-1.26.9-py2.py3-none-any.whl (138 kB)\n",
            "\u001b[K     |████████████████████████████████| 138 kB 49.7 MB/s \n",
            "\u001b[?25hCollecting pyfaidx>=0.5.5.2\n",
            "  Downloading pyfaidx-0.6.4.tar.gz (100 kB)\n",
            "\u001b[K     |████████████████████████████████| 100 kB 7.4 MB/s \n",
            "\u001b[?25hRequirement already satisfied: six>=1.12.0 in /usr/local/lib/python3.7/dist-packages (from gffutils==0.10.1->ncbi-datasets-pylib) (1.15.0)\n",
            "Collecting argh>=0.26.2\n",
            "  Downloading argh-0.26.2-py2.py3-none-any.whl (30 kB)\n",
            "Collecting argcomplete>=1.9.4\n",
            "  Downloading argcomplete-2.0.0-py2.py3-none-any.whl (37 kB)\n",
            "Collecting simplejson\n",
            "  Downloading simplejson-3.17.6-cp37-cp37m-manylinux_2_5_x86_64.manylinux1_x86_64.manylinux_2_12_x86_64.manylinux2010_x86_64.whl (130 kB)\n",
            "\u001b[K     |████████████████████████████████| 130 kB 56.1 MB/s \n",
            "\u001b[?25hRequirement already satisfied: MarkupSafe>=2.0 in /usr/local/lib/python3.7/dist-packages (from Jinja2==3.0.3->ncbi-datasets-pylib) (2.0.1)\n",
            "Requirement already satisfied: attrs>=19.2.0 in /usr/local/lib/python3.7/dist-packages (from jsonlines==3.0.0->ncbi-datasets-pylib) (21.4.0)\n",
            "Requirement already satisfied: typing-extensions in /usr/local/lib/python3.7/dist-packages (from jsonlines==3.0.0->ncbi-datasets-pylib) (3.10.0.2)\n",
            "Requirement already satisfied: importlib-metadata<5,>=0.23 in /usr/local/lib/python3.7/dist-packages (from argcomplete>=1.9.4->gffutils==0.10.1->ncbi-datasets-pylib) (4.11.3)\n",
            "Requirement already satisfied: zipp>=0.5 in /usr/local/lib/python3.7/dist-packages (from importlib-metadata<5,>=0.23->argcomplete>=1.9.4->gffutils==0.10.1->ncbi-datasets-pylib) (3.7.0)\n",
            "Building wheels for collected packages: ncbi-datasets-pylib, gffutils, pyfaidx\n",
            "  Building wheel for ncbi-datasets-pylib (setup.py) ... \u001b[?25l\u001b[?25hdone\n",
            "  Created wheel for ncbi-datasets-pylib: filename=ncbi_datasets_pylib-13.7.0-py2.py3-none-any.whl size=676243 sha256=9a442bd3f3b41c06f4fc49d3619941fef9ab45cefff4a848c2121acf154a6d81\n",
            "  Stored in directory: /root/.cache/pip/wheels/02/eb/e2/f11826bae25adca88a86bf85e3f45242ae0214c54a9b04305e\n",
            "  Building wheel for gffutils (setup.py) ... \u001b[?25l\u001b[?25hdone\n",
            "  Created wheel for gffutils: filename=gffutils-0.10.1-py3-none-any.whl size=1608588 sha256=e15be358f1dd3be3a87735355de4581bae0a5e4221498edf2803bf54203993f6\n",
            "  Stored in directory: /root/.cache/pip/wheels/cc/30/54/f2100041e9b3f5ea90f8f7ebd748aa98a58ebc7b456688a0ba\n",
            "  Building wheel for pyfaidx (setup.py) ... \u001b[?25l\u001b[?25hdone\n",
            "  Created wheel for pyfaidx: filename=pyfaidx-0.6.4-py3-none-any.whl size=26558 sha256=d0ebd2afbd6d90cbdce6c433d7fa9e0ce3cb2651e3ba692a0cf1894715eeb26f\n",
            "  Stored in directory: /root/.cache/pip/wheels/b2/16/a9/432d2035e17e4291f49cc518298a44192e5d4f544474f19123\n",
            "Successfully built ncbi-datasets-pylib gffutils pyfaidx\n",
            "Installing collected packages: simplejson, pyfaidx, argh, argcomplete, urllib3, protobuf, Jinja2, gffutils, cachetools, ncbi-datasets-pylib\n",
            "  Attempting uninstall: urllib3\n",
            "    Found existing installation: urllib3 1.24.3\n",
            "    Uninstalling urllib3-1.24.3:\n",
            "      Successfully uninstalled urllib3-1.24.3\n",
            "  Attempting uninstall: protobuf\n",
            "    Found existing installation: protobuf 3.17.3\n",
            "    Uninstalling protobuf-3.17.3:\n",
            "      Successfully uninstalled protobuf-3.17.3\n",
            "  Attempting uninstall: Jinja2\n",
            "    Found existing installation: Jinja2 2.11.3\n",
            "    Uninstalling Jinja2-2.11.3:\n",
            "      Successfully uninstalled Jinja2-2.11.3\n",
            "  Attempting uninstall: cachetools\n",
            "    Found existing installation: cachetools 4.2.4\n",
            "    Uninstalling cachetools-4.2.4:\n",
            "      Successfully uninstalled cachetools-4.2.4\n",
            "\u001b[31mERROR: pip's dependency resolver does not currently take into account all the packages that are installed. This behaviour is the source of the following dependency conflicts.\n",
            "tensorflow 2.8.0 requires tf-estimator-nightly==2.8.0.dev2021122109, which is not installed.\n",
            "requests 2.23.0 requires urllib3!=1.25.0,!=1.25.1,<1.26,>=1.21.1, but you have urllib3 1.26.9 which is incompatible.\n",
            "google-auth 1.35.0 requires cachetools<5.0,>=2.0.0, but you have cachetools 5.0.0 which is incompatible.\n",
            "flask 1.1.4 requires Jinja2<3.0,>=2.10.1, but you have jinja2 3.0.3 which is incompatible.\n",
            "datascience 0.10.6 requires folium==0.2.1, but you have folium 0.8.3 which is incompatible.\u001b[0m\n",
            "Successfully installed Jinja2-3.0.3 argcomplete-2.0.0 argh-0.26.2 cachetools-5.0.0 gffutils-0.10.1 ncbi-datasets-pylib-13.7.0 protobuf-3.19.4 pyfaidx-0.6.4 simplejson-3.17.6 urllib3-1.26.9\n"
          ]
        },
        {
          "output_type": "display_data",
          "data": {
            "application/vnd.colab-display-data+json": {
              "pip_warning": {
                "packages": [
                  "google"
                ]
              }
            }
          },
          "metadata": {}
        }
      ]
    },
    {
      "cell_type": "markdown",
      "source": [
        "NCBI API"
      ],
      "metadata": {
        "id": "bicwBs__1S_I"
      }
    },
    {
      "cell_type": "code",
      "source": [
        "from ncbi.datasets.openapi import ApiClient as DatasetsApiClient\n",
        "from ncbi.datasets.openapi import ApiException as DatasetsApiException\n",
        "from ncbi.datasets import VirusApi as DatasetsVirusApi\n",
        "from ncbi.datasets.package import dataset"
      ],
      "metadata": {
        "id": "8lOQ0kBX1R6J"
      },
      "execution_count": null,
      "outputs": []
    },
    {
      "cell_type": "markdown",
      "source": [
        "## Data Adquisition: COVID-19 Genome \n",
        "\n",
        "Lets gets the genoms for the linage A of COVID-19"
      ],
      "metadata": {
        "id": "qKX1fZqe1VBW"
      }
    },
    {
      "cell_type": "code",
      "execution_count": null,
      "metadata": {
        "colab": {
          "base_uri": "https://localhost:8080/"
        },
        "id": "GPoRVigY4T4Q",
        "outputId": "a5f4bf62-1d70-473e-ad8c-9250c36cf3c0"
      },
      "outputs": [
        {
          "output_type": "stream",
          "name": "stdout",
          "text": [
            "Begin download of virus data package ...\n",
            "Download completed -- see sars_cov2_dataset.zip\n",
            "{'apiVersion': 'V1', 'assemblies': [{'files': [{'filePath': 'data_report.jsonl', 'fileType': 'DATA_REPORT', 'uncompressedLengthBytes': '14109919'}, {'filePath': 'cds.fna', 'fileType': 'CDS_NUCLEOTIDE_FASTA', 'uncompressedLengthBytes': '34280385'}, {'filePath': 'genomic.fna', 'fileType': 'GENOMIC_NUCLEOTIDE_FASTA', 'uncompressedLengthBytes': '16282453'}, {'filePath': 'protein.faa', 'fileType': 'PROTEIN_FASTA', 'uncompressedLengthBytes': '15825032'}, {'filePath': 'virus_dataset.md', 'fileType': 'README', 'uncompressedLengthBytes': '2431'}]}]}\n"
          ]
        }
      ],
      "source": [
        "zipfile_name = \"sars_cov2_dataset.zip\"\n",
        "linage = \"A\"\n",
        "\n",
        "with DatasetsApiClient() as api_client:\n",
        "    virus_api = DatasetsVirusApi(api_client)\n",
        "    try:\n",
        "        print(\"Begin download of virus data package ...\")\n",
        "        virus_ds_download = virus_api.virus_genome_download(\n",
        "            \"SARS2\",\n",
        "            complete_only=True,\n",
        "            host=\"human\",\n",
        "            include_annotation_type=[\"PROT_FASTA\", \"CDS_FASTA\"],\n",
        "            _preload_content=False,\n",
        "            pangolin_classification = linage,\n",
        "        )\n",
        "\n",
        "        with open(zipfile_name, \"wb\") as f:\n",
        "            f.write(virus_ds_download.data)\n",
        "        print(f\"Download completed -- see {zipfile_name}\")\n",
        "    except DatasetsApiException as e:\n",
        "        print(f\"Exception when calling virus_genome_download: {e}\\n\")\n",
        "\n",
        "# open the package zip archive so we can retrieve files from it\n",
        "package = dataset.VirusDataset(zipfile_name)\n",
        "# print the names and types of all files in the downloaded zip file\n",
        "print(package.get_catalog())"
      ]
    },
    {
      "cell_type": "code",
      "source": [
        "def get_data_reports(zip_file):\n",
        "    with zipfile.ZipFile(zip_file, 'r') as zip_download:\n",
        "        with zip_download.open('ncbi_dataset/data/data_report.jsonl') as report_file_handle:\n",
        "            with jsonlines.Reader(report_file_handle) as json_reader:\n",
        "                for g in json_reader:\n",
        "                    yield g\n",
        "   \n",
        "genome_data = []\n",
        "for g in get_data_reports(zipfile_name):\n",
        "    genome_data.append({\n",
        "        'Accession': g['accession'],\n",
        "        'TaxID': g['virus']['taxId'],\n",
        "        'VirusName': g['virus']['sciName'],\n",
        "        'Host': g.get('host', {}).get('sciName'),\n",
        "        'Isolate': g.get('isolate', {}).get('name'),\n",
        "        'Location': g.get('location', {}).get('geographicLocation'),\n",
        "        'Length': g.get('length', 0),\n",
        "        'Genes': g.get('geneCount', 0),\n",
        "        'Proteins': g.get('proteinCount', 0),\n",
        "        'MaturePeptides': g.get('maturePeptideCount', 0),\n",
        "        'completeness': g.get('completeness', 0),\n",
        "        'releaseDate': g.get('releaseDate', 0),\n",
        "        'updateDate': g.get('updateDate', 0),\n",
        "        'virus': g.get('virus', None),\n",
        "    })\n",
        "\n",
        "\n",
        "df = pd.DataFrame(genome_data)\n",
        "df = df.sort_values(\"releaseDate\").reset_index(drop=True)\n",
        "df"
      ],
      "metadata": {
        "colab": {
          "base_uri": "https://localhost:8080/",
          "height": 1000
        },
        "id": "7zJLfJ5GFKyo",
        "outputId": "73a6dd1d-7464-468a-e7e1-2d61d24fd692"
      },
      "execution_count": null,
      "outputs": [
        {
          "output_type": "execute_result",
          "data": {
            "text/plain": [
              "      Accession    TaxID                                        VirusName  \\\n",
              "0    MN938384.1  2697049  Severe acute respiratory syndrome coronavirus 2   \n",
              "1    MN985325.1  2697049  Severe acute respiratory syndrome coronavirus 2   \n",
              "2    MN975262.1  2697049  Severe acute respiratory syndrome coronavirus 2   \n",
              "3    MN988713.1  2697049  Severe acute respiratory syndrome coronavirus 2   \n",
              "4    MN997409.1  2697049  Severe acute respiratory syndrome coronavirus 2   \n",
              "..          ...      ...                                              ...   \n",
              "531  MT318829.1  2697049  Severe acute respiratory syndrome coronavirus 2   \n",
              "532  MT318828.1  2697049  Severe acute respiratory syndrome coronavirus 2   \n",
              "533  OM692350.1  2697049  Severe acute respiratory syndrome coronavirus 2   \n",
              "534  OM739099.1  2697049  Severe acute respiratory syndrome coronavirus 2   \n",
              "535  OM812304.1  2697049  Severe acute respiratory syndrome coronavirus 2   \n",
              "\n",
              "             Host                                            Isolate  \\\n",
              "0    Homo sapiens                         2019-nCoV_HKU-SZ-002a_2020   \n",
              "1    Homo sapiens      SARS-CoV-2/human/USA/WA-CDC-02982586-001/2020   \n",
              "2    Homo sapiens                         2019-nCoV_HKU-SZ-005b_2020   \n",
              "3    Homo sapiens      SARS-CoV-2/human/USA/IL-CDC-02983522-001/2020   \n",
              "4    Homo sapiens      SARS-CoV-2/human/USA/AZ-CDC-02993465-001/2020   \n",
              "..            ...                                                ...   \n",
              "531  Homo sapiens                 SARS-CoV-2/human/CHN/ZJNB4794/2020   \n",
              "532  Homo sapiens                  SARS-CoV-2/human/CHN/ZJNB016/2020   \n",
              "533  Homo sapiens         SARS-CoV-2/human/KOR/KCDC03-NCCP43326/2021   \n",
              "534  Homo sapiens  SARS-CoV-2/human/SouthAfrica/NHLS-UCT-GS-2931/...   \n",
              "535  Homo sapiens     SARS-CoV-2/human/USA/UT-UPHL-220216087755/2022   \n",
              "\n",
              "            Location  Length  Genes  Proteins  MaturePeptides completeness  \\\n",
              "0    China: Shenzhen   29838      9         9               0     COMPLETE   \n",
              "1                USA   29882     10        10               0     COMPLETE   \n",
              "2              China   29891     10        10               0     COMPLETE   \n",
              "3      USA: Illinois   29882     10        10               0     COMPLETE   \n",
              "4            USA: AZ   29882     10        10               0     COMPLETE   \n",
              "..               ...     ...    ...       ...             ...          ...   \n",
              "531             None   29870     11        12              26     COMPLETE   \n",
              "532             None   29828     11        12              26     COMPLETE   \n",
              "533      South Korea   29848     11        12              26     COMPLETE   \n",
              "534     South Africa   29822     11        12              26     COMPLETE   \n",
              "535              USA   29793     11        12              26     COMPLETE   \n",
              "\n",
              "    releaseDate  updateDate                                              virus  \n",
              "0    2020-01-24  2020-02-11  {'lineage': [{'name': 'Viruses', 'taxId': 1023...  \n",
              "1    2020-01-24  2021-11-08  {'lineage': [{'name': 'Viruses', 'taxId': 1023...  \n",
              "2    2020-01-24  2020-02-11  {'lineage': [{'name': 'Viruses', 'taxId': 1023...  \n",
              "3    2020-01-25  2021-11-08  {'lineage': [{'name': 'Viruses', 'taxId': 1023...  \n",
              "4    2020-01-28  2021-11-08  {'lineage': [{'name': 'Viruses', 'taxId': 1023...  \n",
              "..          ...         ...                                                ...  \n",
              "531  2022-01-31  2022-01-31  {'lineage': [{'name': 'Viruses', 'taxId': 1023...  \n",
              "532  2022-01-31  2022-01-31  {'lineage': [{'name': 'Viruses', 'taxId': 1023...  \n",
              "533  2022-02-15  2022-02-15  {'lineage': [{'name': 'Viruses', 'taxId': 1023...  \n",
              "534  2022-02-18  2022-02-18  {'lineage': [{'name': 'Viruses', 'taxId': 1023...  \n",
              "535  2022-02-24  2022-02-24  {'lineage': [{'name': 'Viruses', 'taxId': 1023...  \n",
              "\n",
              "[536 rows x 14 columns]"
            ],
            "text/html": [
              "\n",
              "  <div id=\"df-91fa3031-d69e-4717-ba53-05244a86b236\">\n",
              "    <div class=\"colab-df-container\">\n",
              "      <div>\n",
              "<style scoped>\n",
              "    .dataframe tbody tr th:only-of-type {\n",
              "        vertical-align: middle;\n",
              "    }\n",
              "\n",
              "    .dataframe tbody tr th {\n",
              "        vertical-align: top;\n",
              "    }\n",
              "\n",
              "    .dataframe thead th {\n",
              "        text-align: right;\n",
              "    }\n",
              "</style>\n",
              "<table border=\"1\" class=\"dataframe\">\n",
              "  <thead>\n",
              "    <tr style=\"text-align: right;\">\n",
              "      <th></th>\n",
              "      <th>Accession</th>\n",
              "      <th>TaxID</th>\n",
              "      <th>VirusName</th>\n",
              "      <th>Host</th>\n",
              "      <th>Isolate</th>\n",
              "      <th>Location</th>\n",
              "      <th>Length</th>\n",
              "      <th>Genes</th>\n",
              "      <th>Proteins</th>\n",
              "      <th>MaturePeptides</th>\n",
              "      <th>completeness</th>\n",
              "      <th>releaseDate</th>\n",
              "      <th>updateDate</th>\n",
              "      <th>virus</th>\n",
              "    </tr>\n",
              "  </thead>\n",
              "  <tbody>\n",
              "    <tr>\n",
              "      <th>0</th>\n",
              "      <td>MN938384.1</td>\n",
              "      <td>2697049</td>\n",
              "      <td>Severe acute respiratory syndrome coronavirus 2</td>\n",
              "      <td>Homo sapiens</td>\n",
              "      <td>2019-nCoV_HKU-SZ-002a_2020</td>\n",
              "      <td>China: Shenzhen</td>\n",
              "      <td>29838</td>\n",
              "      <td>9</td>\n",
              "      <td>9</td>\n",
              "      <td>0</td>\n",
              "      <td>COMPLETE</td>\n",
              "      <td>2020-01-24</td>\n",
              "      <td>2020-02-11</td>\n",
              "      <td>{'lineage': [{'name': 'Viruses', 'taxId': 1023...</td>\n",
              "    </tr>\n",
              "    <tr>\n",
              "      <th>1</th>\n",
              "      <td>MN985325.1</td>\n",
              "      <td>2697049</td>\n",
              "      <td>Severe acute respiratory syndrome coronavirus 2</td>\n",
              "      <td>Homo sapiens</td>\n",
              "      <td>SARS-CoV-2/human/USA/WA-CDC-02982586-001/2020</td>\n",
              "      <td>USA</td>\n",
              "      <td>29882</td>\n",
              "      <td>10</td>\n",
              "      <td>10</td>\n",
              "      <td>0</td>\n",
              "      <td>COMPLETE</td>\n",
              "      <td>2020-01-24</td>\n",
              "      <td>2021-11-08</td>\n",
              "      <td>{'lineage': [{'name': 'Viruses', 'taxId': 1023...</td>\n",
              "    </tr>\n",
              "    <tr>\n",
              "      <th>2</th>\n",
              "      <td>MN975262.1</td>\n",
              "      <td>2697049</td>\n",
              "      <td>Severe acute respiratory syndrome coronavirus 2</td>\n",
              "      <td>Homo sapiens</td>\n",
              "      <td>2019-nCoV_HKU-SZ-005b_2020</td>\n",
              "      <td>China</td>\n",
              "      <td>29891</td>\n",
              "      <td>10</td>\n",
              "      <td>10</td>\n",
              "      <td>0</td>\n",
              "      <td>COMPLETE</td>\n",
              "      <td>2020-01-24</td>\n",
              "      <td>2020-02-11</td>\n",
              "      <td>{'lineage': [{'name': 'Viruses', 'taxId': 1023...</td>\n",
              "    </tr>\n",
              "    <tr>\n",
              "      <th>3</th>\n",
              "      <td>MN988713.1</td>\n",
              "      <td>2697049</td>\n",
              "      <td>Severe acute respiratory syndrome coronavirus 2</td>\n",
              "      <td>Homo sapiens</td>\n",
              "      <td>SARS-CoV-2/human/USA/IL-CDC-02983522-001/2020</td>\n",
              "      <td>USA: Illinois</td>\n",
              "      <td>29882</td>\n",
              "      <td>10</td>\n",
              "      <td>10</td>\n",
              "      <td>0</td>\n",
              "      <td>COMPLETE</td>\n",
              "      <td>2020-01-25</td>\n",
              "      <td>2021-11-08</td>\n",
              "      <td>{'lineage': [{'name': 'Viruses', 'taxId': 1023...</td>\n",
              "    </tr>\n",
              "    <tr>\n",
              "      <th>4</th>\n",
              "      <td>MN997409.1</td>\n",
              "      <td>2697049</td>\n",
              "      <td>Severe acute respiratory syndrome coronavirus 2</td>\n",
              "      <td>Homo sapiens</td>\n",
              "      <td>SARS-CoV-2/human/USA/AZ-CDC-02993465-001/2020</td>\n",
              "      <td>USA: AZ</td>\n",
              "      <td>29882</td>\n",
              "      <td>10</td>\n",
              "      <td>10</td>\n",
              "      <td>0</td>\n",
              "      <td>COMPLETE</td>\n",
              "      <td>2020-01-28</td>\n",
              "      <td>2021-11-08</td>\n",
              "      <td>{'lineage': [{'name': 'Viruses', 'taxId': 1023...</td>\n",
              "    </tr>\n",
              "    <tr>\n",
              "      <th>...</th>\n",
              "      <td>...</td>\n",
              "      <td>...</td>\n",
              "      <td>...</td>\n",
              "      <td>...</td>\n",
              "      <td>...</td>\n",
              "      <td>...</td>\n",
              "      <td>...</td>\n",
              "      <td>...</td>\n",
              "      <td>...</td>\n",
              "      <td>...</td>\n",
              "      <td>...</td>\n",
              "      <td>...</td>\n",
              "      <td>...</td>\n",
              "      <td>...</td>\n",
              "    </tr>\n",
              "    <tr>\n",
              "      <th>531</th>\n",
              "      <td>MT318829.1</td>\n",
              "      <td>2697049</td>\n",
              "      <td>Severe acute respiratory syndrome coronavirus 2</td>\n",
              "      <td>Homo sapiens</td>\n",
              "      <td>SARS-CoV-2/human/CHN/ZJNB4794/2020</td>\n",
              "      <td>None</td>\n",
              "      <td>29870</td>\n",
              "      <td>11</td>\n",
              "      <td>12</td>\n",
              "      <td>26</td>\n",
              "      <td>COMPLETE</td>\n",
              "      <td>2022-01-31</td>\n",
              "      <td>2022-01-31</td>\n",
              "      <td>{'lineage': [{'name': 'Viruses', 'taxId': 1023...</td>\n",
              "    </tr>\n",
              "    <tr>\n",
              "      <th>532</th>\n",
              "      <td>MT318828.1</td>\n",
              "      <td>2697049</td>\n",
              "      <td>Severe acute respiratory syndrome coronavirus 2</td>\n",
              "      <td>Homo sapiens</td>\n",
              "      <td>SARS-CoV-2/human/CHN/ZJNB016/2020</td>\n",
              "      <td>None</td>\n",
              "      <td>29828</td>\n",
              "      <td>11</td>\n",
              "      <td>12</td>\n",
              "      <td>26</td>\n",
              "      <td>COMPLETE</td>\n",
              "      <td>2022-01-31</td>\n",
              "      <td>2022-01-31</td>\n",
              "      <td>{'lineage': [{'name': 'Viruses', 'taxId': 1023...</td>\n",
              "    </tr>\n",
              "    <tr>\n",
              "      <th>533</th>\n",
              "      <td>OM692350.1</td>\n",
              "      <td>2697049</td>\n",
              "      <td>Severe acute respiratory syndrome coronavirus 2</td>\n",
              "      <td>Homo sapiens</td>\n",
              "      <td>SARS-CoV-2/human/KOR/KCDC03-NCCP43326/2021</td>\n",
              "      <td>South Korea</td>\n",
              "      <td>29848</td>\n",
              "      <td>11</td>\n",
              "      <td>12</td>\n",
              "      <td>26</td>\n",
              "      <td>COMPLETE</td>\n",
              "      <td>2022-02-15</td>\n",
              "      <td>2022-02-15</td>\n",
              "      <td>{'lineage': [{'name': 'Viruses', 'taxId': 1023...</td>\n",
              "    </tr>\n",
              "    <tr>\n",
              "      <th>534</th>\n",
              "      <td>OM739099.1</td>\n",
              "      <td>2697049</td>\n",
              "      <td>Severe acute respiratory syndrome coronavirus 2</td>\n",
              "      <td>Homo sapiens</td>\n",
              "      <td>SARS-CoV-2/human/SouthAfrica/NHLS-UCT-GS-2931/...</td>\n",
              "      <td>South Africa</td>\n",
              "      <td>29822</td>\n",
              "      <td>11</td>\n",
              "      <td>12</td>\n",
              "      <td>26</td>\n",
              "      <td>COMPLETE</td>\n",
              "      <td>2022-02-18</td>\n",
              "      <td>2022-02-18</td>\n",
              "      <td>{'lineage': [{'name': 'Viruses', 'taxId': 1023...</td>\n",
              "    </tr>\n",
              "    <tr>\n",
              "      <th>535</th>\n",
              "      <td>OM812304.1</td>\n",
              "      <td>2697049</td>\n",
              "      <td>Severe acute respiratory syndrome coronavirus 2</td>\n",
              "      <td>Homo sapiens</td>\n",
              "      <td>SARS-CoV-2/human/USA/UT-UPHL-220216087755/2022</td>\n",
              "      <td>USA</td>\n",
              "      <td>29793</td>\n",
              "      <td>11</td>\n",
              "      <td>12</td>\n",
              "      <td>26</td>\n",
              "      <td>COMPLETE</td>\n",
              "      <td>2022-02-24</td>\n",
              "      <td>2022-02-24</td>\n",
              "      <td>{'lineage': [{'name': 'Viruses', 'taxId': 1023...</td>\n",
              "    </tr>\n",
              "  </tbody>\n",
              "</table>\n",
              "<p>536 rows × 14 columns</p>\n",
              "</div>\n",
              "      <button class=\"colab-df-convert\" onclick=\"convertToInteractive('df-91fa3031-d69e-4717-ba53-05244a86b236')\"\n",
              "              title=\"Convert this dataframe to an interactive table.\"\n",
              "              style=\"display:none;\">\n",
              "        \n",
              "  <svg xmlns=\"http://www.w3.org/2000/svg\" height=\"24px\"viewBox=\"0 0 24 24\"\n",
              "       width=\"24px\">\n",
              "    <path d=\"M0 0h24v24H0V0z\" fill=\"none\"/>\n",
              "    <path d=\"M18.56 5.44l.94 2.06.94-2.06 2.06-.94-2.06-.94-.94-2.06-.94 2.06-2.06.94zm-11 1L8.5 8.5l.94-2.06 2.06-.94-2.06-.94L8.5 2.5l-.94 2.06-2.06.94zm10 10l.94 2.06.94-2.06 2.06-.94-2.06-.94-.94-2.06-.94 2.06-2.06.94z\"/><path d=\"M17.41 7.96l-1.37-1.37c-.4-.4-.92-.59-1.43-.59-.52 0-1.04.2-1.43.59L10.3 9.45l-7.72 7.72c-.78.78-.78 2.05 0 2.83L4 21.41c.39.39.9.59 1.41.59.51 0 1.02-.2 1.41-.59l7.78-7.78 2.81-2.81c.8-.78.8-2.07 0-2.86zM5.41 20L4 18.59l7.72-7.72 1.47 1.35L5.41 20z\"/>\n",
              "  </svg>\n",
              "      </button>\n",
              "      \n",
              "  <style>\n",
              "    .colab-df-container {\n",
              "      display:flex;\n",
              "      flex-wrap:wrap;\n",
              "      gap: 12px;\n",
              "    }\n",
              "\n",
              "    .colab-df-convert {\n",
              "      background-color: #E8F0FE;\n",
              "      border: none;\n",
              "      border-radius: 50%;\n",
              "      cursor: pointer;\n",
              "      display: none;\n",
              "      fill: #1967D2;\n",
              "      height: 32px;\n",
              "      padding: 0 0 0 0;\n",
              "      width: 32px;\n",
              "    }\n",
              "\n",
              "    .colab-df-convert:hover {\n",
              "      background-color: #E2EBFA;\n",
              "      box-shadow: 0px 1px 2px rgba(60, 64, 67, 0.3), 0px 1px 3px 1px rgba(60, 64, 67, 0.15);\n",
              "      fill: #174EA6;\n",
              "    }\n",
              "\n",
              "    [theme=dark] .colab-df-convert {\n",
              "      background-color: #3B4455;\n",
              "      fill: #D2E3FC;\n",
              "    }\n",
              "\n",
              "    [theme=dark] .colab-df-convert:hover {\n",
              "      background-color: #434B5C;\n",
              "      box-shadow: 0px 1px 3px 1px rgba(0, 0, 0, 0.15);\n",
              "      filter: drop-shadow(0px 1px 2px rgba(0, 0, 0, 0.3));\n",
              "      fill: #FFFFFF;\n",
              "    }\n",
              "  </style>\n",
              "\n",
              "      <script>\n",
              "        const buttonEl =\n",
              "          document.querySelector('#df-91fa3031-d69e-4717-ba53-05244a86b236 button.colab-df-convert');\n",
              "        buttonEl.style.display =\n",
              "          google.colab.kernel.accessAllowed ? 'block' : 'none';\n",
              "\n",
              "        async function convertToInteractive(key) {\n",
              "          const element = document.querySelector('#df-91fa3031-d69e-4717-ba53-05244a86b236');\n",
              "          const dataTable =\n",
              "            await google.colab.kernel.invokeFunction('convertToInteractive',\n",
              "                                                     [key], {});\n",
              "          if (!dataTable) return;\n",
              "\n",
              "          const docLinkHtml = 'Like what you see? Visit the ' +\n",
              "            '<a target=\"_blank\" href=https://colab.research.google.com/notebooks/data_table.ipynb>data table notebook</a>'\n",
              "            + ' to learn more about interactive tables.';\n",
              "          element.innerHTML = '';\n",
              "          dataTable['output_type'] = 'display_data';\n",
              "          await google.colab.output.renderOutput(dataTable, element);\n",
              "          const docLink = document.createElement('div');\n",
              "          docLink.innerHTML = docLinkHtml;\n",
              "          element.appendChild(docLink);\n",
              "        }\n",
              "      </script>\n",
              "    </div>\n",
              "  </div>\n",
              "  "
            ]
          },
          "metadata": {},
          "execution_count": 12
        }
      ]
    },
    {
      "cell_type": "code",
      "source": [
        "for g in get_data_reports(zipfile_name):\n",
        "  print(g.keys())\n",
        "  break"
      ],
      "metadata": {
        "colab": {
          "base_uri": "https://localhost:8080/"
        },
        "id": "cdVxs0xAKK4-",
        "outputId": "d17b63d7-a192-470a-a169-118800ccd44a"
      },
      "execution_count": null,
      "outputs": [
        {
          "output_type": "stream",
          "name": "stdout",
          "text": [
            "dict_keys(['accession', 'bioprojects', 'biosample', 'completeness', 'host', 'isolate', 'length', 'location', 'molType', 'nucleotide', 'nucleotideCompleteness', 'releaseDate', 'sourceDatabase', 'sraAccessions', 'updateDate', 'virus'])\n"
          ]
        }
      ]
    },
    {
      "cell_type": "markdown",
      "source": [
        "Lets initialize the `sequence` column:"
      ],
      "metadata": {
        "id": "rXYnzIYou3fU"
      }
    },
    {
      "cell_type": "code",
      "source": [
        "df[\"sequence\"] = None"
      ],
      "metadata": {
        "id": "5qYU2OkULM1m"
      },
      "execution_count": null,
      "outputs": []
    },
    {
      "cell_type": "markdown",
      "source": [
        "Lets fill the sequence:"
      ],
      "metadata": {
        "id": "4kRaok9pu-w1"
      }
    },
    {
      "cell_type": "code",
      "source": [
        "pattern_full_gene = r\">.*\\n(?:[ATNGC]*\\n)*\"\n",
        "\n",
        "for genoms_raw, filePath in package.get_files_by_type(\"GENOMIC_NUCLEOTIDE_FASTA\"):\n",
        "  genoms = re.findall(pattern_full_gene, genoms_raw)"
      ],
      "metadata": {
        "id": "eaIvGauUJL5Y"
      },
      "execution_count": null,
      "outputs": []
    },
    {
      "cell_type": "code",
      "source": [
        "pattern_accession = r\">[\\w\\d\\.]*\"\n",
        "\n",
        "pattern_sequence = r\"\\n(?:[ATGCN]*\\n)*\"\n",
        "for genom in genoms:\n",
        "  accession = re.findall(pattern_accession, genom)[0]\n",
        "  raw_sequence = re.findall(pattern_sequence, genom)[0]\n",
        "  sequence = re.sub(\"\\n\", \"\", raw_sequence)\n",
        "  if accession[1:] == \"MT653078.1\":\n",
        "    print(genom)\n",
        "    print(\"TEST\")\n",
        "  df.loc[df[\"Accession\"] == accession[1:],\"sequence\"] = sequence\n",
        "\n",
        "df.head()"
      ],
      "metadata": {
        "colab": {
          "base_uri": "https://localhost:8080/",
          "height": 756
        },
        "id": "Wwkf3seaKqEY",
        "outputId": "3abe0062-2e1d-436b-9e50-2c0c9da35563"
      },
      "execution_count": null,
      "outputs": [
        {
          "output_type": "stream",
          "name": "stdout",
          "text": [
            ">MT653078.1 Severe acute respiratory syndrome coronavirus 2 isolate SARS-CoV-2/human/BEN/843/2020, complete genome\n",
            "\n",
            "TEST\n"
          ]
        },
        {
          "output_type": "execute_result",
          "data": {
            "text/plain": [
              "    Accession    TaxID                                        VirusName  \\\n",
              "0  MN938384.1  2697049  Severe acute respiratory syndrome coronavirus 2   \n",
              "1  MN985325.1  2697049  Severe acute respiratory syndrome coronavirus 2   \n",
              "2  MN975262.1  2697049  Severe acute respiratory syndrome coronavirus 2   \n",
              "3  MN988713.1  2697049  Severe acute respiratory syndrome coronavirus 2   \n",
              "4  MN997409.1  2697049  Severe acute respiratory syndrome coronavirus 2   \n",
              "\n",
              "           Host                                        Isolate  \\\n",
              "0  Homo sapiens                     2019-nCoV_HKU-SZ-002a_2020   \n",
              "1  Homo sapiens  SARS-CoV-2/human/USA/WA-CDC-02982586-001/2020   \n",
              "2  Homo sapiens                     2019-nCoV_HKU-SZ-005b_2020   \n",
              "3  Homo sapiens  SARS-CoV-2/human/USA/IL-CDC-02983522-001/2020   \n",
              "4  Homo sapiens  SARS-CoV-2/human/USA/AZ-CDC-02993465-001/2020   \n",
              "\n",
              "          Location  Length  Genes  Proteins  MaturePeptides completeness  \\\n",
              "0  China: Shenzhen   29838      9         9               0     COMPLETE   \n",
              "1              USA   29882     10        10               0     COMPLETE   \n",
              "2            China   29891     10        10               0     COMPLETE   \n",
              "3    USA: Illinois   29882     10        10               0     COMPLETE   \n",
              "4          USA: AZ   29882     10        10               0     COMPLETE   \n",
              "\n",
              "  releaseDate  updateDate                                              virus  \\\n",
              "0  2020-01-24  2020-02-11  {'lineage': [{'name': 'Viruses', 'taxId': 1023...   \n",
              "1  2020-01-24  2021-11-08  {'lineage': [{'name': 'Viruses', 'taxId': 1023...   \n",
              "2  2020-01-24  2020-02-11  {'lineage': [{'name': 'Viruses', 'taxId': 1023...   \n",
              "3  2020-01-25  2021-11-08  {'lineage': [{'name': 'Viruses', 'taxId': 1023...   \n",
              "4  2020-01-28  2021-11-08  {'lineage': [{'name': 'Viruses', 'taxId': 1023...   \n",
              "\n",
              "                                            sequence  \n",
              "0  CAACCAACTTTCGATCTCTTGTAGATCTGTTCTCTAAACGAACTTT...  \n",
              "1  ATTAAAGGTTTATACCTTCCCAGGTAACAAACCAACCAACTTTCGA...  \n",
              "2  ATTAAAGGTTTATACCTTCCCAGGTAACAAACCAACCAACTTTCGA...  \n",
              "3  ATTAAAGGTTTATACCTTCCCAGGTAACAAACCAACCAACTTTCGA...  \n",
              "4  ATTAAAGGTTTATACCTTCCCAGGTAACAAACCAACCAACTTTCGA...  "
            ],
            "text/html": [
              "\n",
              "  <div id=\"df-e7d4d84b-0e55-49c1-b6eb-74feb9f4842b\">\n",
              "    <div class=\"colab-df-container\">\n",
              "      <div>\n",
              "<style scoped>\n",
              "    .dataframe tbody tr th:only-of-type {\n",
              "        vertical-align: middle;\n",
              "    }\n",
              "\n",
              "    .dataframe tbody tr th {\n",
              "        vertical-align: top;\n",
              "    }\n",
              "\n",
              "    .dataframe thead th {\n",
              "        text-align: right;\n",
              "    }\n",
              "</style>\n",
              "<table border=\"1\" class=\"dataframe\">\n",
              "  <thead>\n",
              "    <tr style=\"text-align: right;\">\n",
              "      <th></th>\n",
              "      <th>Accession</th>\n",
              "      <th>TaxID</th>\n",
              "      <th>VirusName</th>\n",
              "      <th>Host</th>\n",
              "      <th>Isolate</th>\n",
              "      <th>Location</th>\n",
              "      <th>Length</th>\n",
              "      <th>Genes</th>\n",
              "      <th>Proteins</th>\n",
              "      <th>MaturePeptides</th>\n",
              "      <th>completeness</th>\n",
              "      <th>releaseDate</th>\n",
              "      <th>updateDate</th>\n",
              "      <th>virus</th>\n",
              "      <th>sequence</th>\n",
              "    </tr>\n",
              "  </thead>\n",
              "  <tbody>\n",
              "    <tr>\n",
              "      <th>0</th>\n",
              "      <td>MN938384.1</td>\n",
              "      <td>2697049</td>\n",
              "      <td>Severe acute respiratory syndrome coronavirus 2</td>\n",
              "      <td>Homo sapiens</td>\n",
              "      <td>2019-nCoV_HKU-SZ-002a_2020</td>\n",
              "      <td>China: Shenzhen</td>\n",
              "      <td>29838</td>\n",
              "      <td>9</td>\n",
              "      <td>9</td>\n",
              "      <td>0</td>\n",
              "      <td>COMPLETE</td>\n",
              "      <td>2020-01-24</td>\n",
              "      <td>2020-02-11</td>\n",
              "      <td>{'lineage': [{'name': 'Viruses', 'taxId': 1023...</td>\n",
              "      <td>CAACCAACTTTCGATCTCTTGTAGATCTGTTCTCTAAACGAACTTT...</td>\n",
              "    </tr>\n",
              "    <tr>\n",
              "      <th>1</th>\n",
              "      <td>MN985325.1</td>\n",
              "      <td>2697049</td>\n",
              "      <td>Severe acute respiratory syndrome coronavirus 2</td>\n",
              "      <td>Homo sapiens</td>\n",
              "      <td>SARS-CoV-2/human/USA/WA-CDC-02982586-001/2020</td>\n",
              "      <td>USA</td>\n",
              "      <td>29882</td>\n",
              "      <td>10</td>\n",
              "      <td>10</td>\n",
              "      <td>0</td>\n",
              "      <td>COMPLETE</td>\n",
              "      <td>2020-01-24</td>\n",
              "      <td>2021-11-08</td>\n",
              "      <td>{'lineage': [{'name': 'Viruses', 'taxId': 1023...</td>\n",
              "      <td>ATTAAAGGTTTATACCTTCCCAGGTAACAAACCAACCAACTTTCGA...</td>\n",
              "    </tr>\n",
              "    <tr>\n",
              "      <th>2</th>\n",
              "      <td>MN975262.1</td>\n",
              "      <td>2697049</td>\n",
              "      <td>Severe acute respiratory syndrome coronavirus 2</td>\n",
              "      <td>Homo sapiens</td>\n",
              "      <td>2019-nCoV_HKU-SZ-005b_2020</td>\n",
              "      <td>China</td>\n",
              "      <td>29891</td>\n",
              "      <td>10</td>\n",
              "      <td>10</td>\n",
              "      <td>0</td>\n",
              "      <td>COMPLETE</td>\n",
              "      <td>2020-01-24</td>\n",
              "      <td>2020-02-11</td>\n",
              "      <td>{'lineage': [{'name': 'Viruses', 'taxId': 1023...</td>\n",
              "      <td>ATTAAAGGTTTATACCTTCCCAGGTAACAAACCAACCAACTTTCGA...</td>\n",
              "    </tr>\n",
              "    <tr>\n",
              "      <th>3</th>\n",
              "      <td>MN988713.1</td>\n",
              "      <td>2697049</td>\n",
              "      <td>Severe acute respiratory syndrome coronavirus 2</td>\n",
              "      <td>Homo sapiens</td>\n",
              "      <td>SARS-CoV-2/human/USA/IL-CDC-02983522-001/2020</td>\n",
              "      <td>USA: Illinois</td>\n",
              "      <td>29882</td>\n",
              "      <td>10</td>\n",
              "      <td>10</td>\n",
              "      <td>0</td>\n",
              "      <td>COMPLETE</td>\n",
              "      <td>2020-01-25</td>\n",
              "      <td>2021-11-08</td>\n",
              "      <td>{'lineage': [{'name': 'Viruses', 'taxId': 1023...</td>\n",
              "      <td>ATTAAAGGTTTATACCTTCCCAGGTAACAAACCAACCAACTTTCGA...</td>\n",
              "    </tr>\n",
              "    <tr>\n",
              "      <th>4</th>\n",
              "      <td>MN997409.1</td>\n",
              "      <td>2697049</td>\n",
              "      <td>Severe acute respiratory syndrome coronavirus 2</td>\n",
              "      <td>Homo sapiens</td>\n",
              "      <td>SARS-CoV-2/human/USA/AZ-CDC-02993465-001/2020</td>\n",
              "      <td>USA: AZ</td>\n",
              "      <td>29882</td>\n",
              "      <td>10</td>\n",
              "      <td>10</td>\n",
              "      <td>0</td>\n",
              "      <td>COMPLETE</td>\n",
              "      <td>2020-01-28</td>\n",
              "      <td>2021-11-08</td>\n",
              "      <td>{'lineage': [{'name': 'Viruses', 'taxId': 1023...</td>\n",
              "      <td>ATTAAAGGTTTATACCTTCCCAGGTAACAAACCAACCAACTTTCGA...</td>\n",
              "    </tr>\n",
              "  </tbody>\n",
              "</table>\n",
              "</div>\n",
              "      <button class=\"colab-df-convert\" onclick=\"convertToInteractive('df-e7d4d84b-0e55-49c1-b6eb-74feb9f4842b')\"\n",
              "              title=\"Convert this dataframe to an interactive table.\"\n",
              "              style=\"display:none;\">\n",
              "        \n",
              "  <svg xmlns=\"http://www.w3.org/2000/svg\" height=\"24px\"viewBox=\"0 0 24 24\"\n",
              "       width=\"24px\">\n",
              "    <path d=\"M0 0h24v24H0V0z\" fill=\"none\"/>\n",
              "    <path d=\"M18.56 5.44l.94 2.06.94-2.06 2.06-.94-2.06-.94-.94-2.06-.94 2.06-2.06.94zm-11 1L8.5 8.5l.94-2.06 2.06-.94-2.06-.94L8.5 2.5l-.94 2.06-2.06.94zm10 10l.94 2.06.94-2.06 2.06-.94-2.06-.94-.94-2.06-.94 2.06-2.06.94z\"/><path d=\"M17.41 7.96l-1.37-1.37c-.4-.4-.92-.59-1.43-.59-.52 0-1.04.2-1.43.59L10.3 9.45l-7.72 7.72c-.78.78-.78 2.05 0 2.83L4 21.41c.39.39.9.59 1.41.59.51 0 1.02-.2 1.41-.59l7.78-7.78 2.81-2.81c.8-.78.8-2.07 0-2.86zM5.41 20L4 18.59l7.72-7.72 1.47 1.35L5.41 20z\"/>\n",
              "  </svg>\n",
              "      </button>\n",
              "      \n",
              "  <style>\n",
              "    .colab-df-container {\n",
              "      display:flex;\n",
              "      flex-wrap:wrap;\n",
              "      gap: 12px;\n",
              "    }\n",
              "\n",
              "    .colab-df-convert {\n",
              "      background-color: #E8F0FE;\n",
              "      border: none;\n",
              "      border-radius: 50%;\n",
              "      cursor: pointer;\n",
              "      display: none;\n",
              "      fill: #1967D2;\n",
              "      height: 32px;\n",
              "      padding: 0 0 0 0;\n",
              "      width: 32px;\n",
              "    }\n",
              "\n",
              "    .colab-df-convert:hover {\n",
              "      background-color: #E2EBFA;\n",
              "      box-shadow: 0px 1px 2px rgba(60, 64, 67, 0.3), 0px 1px 3px 1px rgba(60, 64, 67, 0.15);\n",
              "      fill: #174EA6;\n",
              "    }\n",
              "\n",
              "    [theme=dark] .colab-df-convert {\n",
              "      background-color: #3B4455;\n",
              "      fill: #D2E3FC;\n",
              "    }\n",
              "\n",
              "    [theme=dark] .colab-df-convert:hover {\n",
              "      background-color: #434B5C;\n",
              "      box-shadow: 0px 1px 3px 1px rgba(0, 0, 0, 0.15);\n",
              "      filter: drop-shadow(0px 1px 2px rgba(0, 0, 0, 0.3));\n",
              "      fill: #FFFFFF;\n",
              "    }\n",
              "  </style>\n",
              "\n",
              "      <script>\n",
              "        const buttonEl =\n",
              "          document.querySelector('#df-e7d4d84b-0e55-49c1-b6eb-74feb9f4842b button.colab-df-convert');\n",
              "        buttonEl.style.display =\n",
              "          google.colab.kernel.accessAllowed ? 'block' : 'none';\n",
              "\n",
              "        async function convertToInteractive(key) {\n",
              "          const element = document.querySelector('#df-e7d4d84b-0e55-49c1-b6eb-74feb9f4842b');\n",
              "          const dataTable =\n",
              "            await google.colab.kernel.invokeFunction('convertToInteractive',\n",
              "                                                     [key], {});\n",
              "          if (!dataTable) return;\n",
              "\n",
              "          const docLinkHtml = 'Like what you see? Visit the ' +\n",
              "            '<a target=\"_blank\" href=https://colab.research.google.com/notebooks/data_table.ipynb>data table notebook</a>'\n",
              "            + ' to learn more about interactive tables.';\n",
              "          element.innerHTML = '';\n",
              "          dataTable['output_type'] = 'display_data';\n",
              "          await google.colab.output.renderOutput(dataTable, element);\n",
              "          const docLink = document.createElement('div');\n",
              "          docLink.innerHTML = docLinkHtml;\n",
              "          element.appendChild(docLink);\n",
              "        }\n",
              "      </script>\n",
              "    </div>\n",
              "  </div>\n",
              "  "
            ]
          },
          "metadata": {},
          "execution_count": 16
        }
      ]
    },
    {
      "cell_type": "code",
      "source": [
        "df = df[df.sequence != \"\"]\n",
        "df.reset_index(drop=True, inplace=True)\n",
        "df"
      ],
      "metadata": {
        "colab": {
          "base_uri": "https://localhost:8080/",
          "height": 1000
        },
        "id": "w-yRsNLqVIG4",
        "outputId": "d10040fb-1f89-48b6-f9f9-5674b0f795be"
      },
      "execution_count": null,
      "outputs": [
        {
          "output_type": "execute_result",
          "data": {
            "text/plain": [
              "      Accession    TaxID                                        VirusName  \\\n",
              "0    MN938384.1  2697049  Severe acute respiratory syndrome coronavirus 2   \n",
              "1    MN985325.1  2697049  Severe acute respiratory syndrome coronavirus 2   \n",
              "2    MN975262.1  2697049  Severe acute respiratory syndrome coronavirus 2   \n",
              "3    MN988713.1  2697049  Severe acute respiratory syndrome coronavirus 2   \n",
              "4    MN997409.1  2697049  Severe acute respiratory syndrome coronavirus 2   \n",
              "..          ...      ...                                              ...   \n",
              "529  MT318829.1  2697049  Severe acute respiratory syndrome coronavirus 2   \n",
              "530  MT318828.1  2697049  Severe acute respiratory syndrome coronavirus 2   \n",
              "531  OM692350.1  2697049  Severe acute respiratory syndrome coronavirus 2   \n",
              "532  OM739099.1  2697049  Severe acute respiratory syndrome coronavirus 2   \n",
              "533  OM812304.1  2697049  Severe acute respiratory syndrome coronavirus 2   \n",
              "\n",
              "             Host                                            Isolate  \\\n",
              "0    Homo sapiens                         2019-nCoV_HKU-SZ-002a_2020   \n",
              "1    Homo sapiens      SARS-CoV-2/human/USA/WA-CDC-02982586-001/2020   \n",
              "2    Homo sapiens                         2019-nCoV_HKU-SZ-005b_2020   \n",
              "3    Homo sapiens      SARS-CoV-2/human/USA/IL-CDC-02983522-001/2020   \n",
              "4    Homo sapiens      SARS-CoV-2/human/USA/AZ-CDC-02993465-001/2020   \n",
              "..            ...                                                ...   \n",
              "529  Homo sapiens                 SARS-CoV-2/human/CHN/ZJNB4794/2020   \n",
              "530  Homo sapiens                  SARS-CoV-2/human/CHN/ZJNB016/2020   \n",
              "531  Homo sapiens         SARS-CoV-2/human/KOR/KCDC03-NCCP43326/2021   \n",
              "532  Homo sapiens  SARS-CoV-2/human/SouthAfrica/NHLS-UCT-GS-2931/...   \n",
              "533  Homo sapiens     SARS-CoV-2/human/USA/UT-UPHL-220216087755/2022   \n",
              "\n",
              "            Location  Length  Genes  Proteins  MaturePeptides completeness  \\\n",
              "0    China: Shenzhen   29838      9         9               0     COMPLETE   \n",
              "1                USA   29882     10        10               0     COMPLETE   \n",
              "2              China   29891     10        10               0     COMPLETE   \n",
              "3      USA: Illinois   29882     10        10               0     COMPLETE   \n",
              "4            USA: AZ   29882     10        10               0     COMPLETE   \n",
              "..               ...     ...    ...       ...             ...          ...   \n",
              "529             None   29870     11        12              26     COMPLETE   \n",
              "530             None   29828     11        12              26     COMPLETE   \n",
              "531      South Korea   29848     11        12              26     COMPLETE   \n",
              "532     South Africa   29822     11        12              26     COMPLETE   \n",
              "533              USA   29793     11        12              26     COMPLETE   \n",
              "\n",
              "    releaseDate  updateDate  \\\n",
              "0    2020-01-24  2020-02-11   \n",
              "1    2020-01-24  2021-11-08   \n",
              "2    2020-01-24  2020-02-11   \n",
              "3    2020-01-25  2021-11-08   \n",
              "4    2020-01-28  2021-11-08   \n",
              "..          ...         ...   \n",
              "529  2022-01-31  2022-01-31   \n",
              "530  2022-01-31  2022-01-31   \n",
              "531  2022-02-15  2022-02-15   \n",
              "532  2022-02-18  2022-02-18   \n",
              "533  2022-02-24  2022-02-24   \n",
              "\n",
              "                                                 virus  \\\n",
              "0    {'lineage': [{'name': 'Viruses', 'taxId': 1023...   \n",
              "1    {'lineage': [{'name': 'Viruses', 'taxId': 1023...   \n",
              "2    {'lineage': [{'name': 'Viruses', 'taxId': 1023...   \n",
              "3    {'lineage': [{'name': 'Viruses', 'taxId': 1023...   \n",
              "4    {'lineage': [{'name': 'Viruses', 'taxId': 1023...   \n",
              "..                                                 ...   \n",
              "529  {'lineage': [{'name': 'Viruses', 'taxId': 1023...   \n",
              "530  {'lineage': [{'name': 'Viruses', 'taxId': 1023...   \n",
              "531  {'lineage': [{'name': 'Viruses', 'taxId': 1023...   \n",
              "532  {'lineage': [{'name': 'Viruses', 'taxId': 1023...   \n",
              "533  {'lineage': [{'name': 'Viruses', 'taxId': 1023...   \n",
              "\n",
              "                                              sequence  \n",
              "0    CAACCAACTTTCGATCTCTTGTAGATCTGTTCTCTAAACGAACTTT...  \n",
              "1    ATTAAAGGTTTATACCTTCCCAGGTAACAAACCAACCAACTTTCGA...  \n",
              "2    ATTAAAGGTTTATACCTTCCCAGGTAACAAACCAACCAACTTTCGA...  \n",
              "3    ATTAAAGGTTTATACCTTCCCAGGTAACAAACCAACCAACTTTCGA...  \n",
              "4    ATTAAAGGTTTATACCTTCCCAGGTAACAAACCAACCAACTTTCGA...  \n",
              "..                                                 ...  \n",
              "529  TTCCCAGGTAACAAACCAACCAACTTTCGATCTCTTGTAGATCTGT...  \n",
              "530  CTGTTCTCTAAACGAACTTTAAAATCTGTGTGGCTGTCACTCGGCT...  \n",
              "531  ATACCTTCCCAGGTAACAAACCAACCAACTTTCGATCTCTTGTAGA...  \n",
              "532  ACTTTCGATCTCTTGTAGATCTGTTCTCTAAACGAACTTTAAAATC...  \n",
              "533  AACAAACCAACCAACTTTCGATCTCTTGTAGATCTGTTCTCTAAAC...  \n",
              "\n",
              "[534 rows x 15 columns]"
            ],
            "text/html": [
              "\n",
              "  <div id=\"df-1881e048-62ca-4b7c-be61-dce78e5151fd\">\n",
              "    <div class=\"colab-df-container\">\n",
              "      <div>\n",
              "<style scoped>\n",
              "    .dataframe tbody tr th:only-of-type {\n",
              "        vertical-align: middle;\n",
              "    }\n",
              "\n",
              "    .dataframe tbody tr th {\n",
              "        vertical-align: top;\n",
              "    }\n",
              "\n",
              "    .dataframe thead th {\n",
              "        text-align: right;\n",
              "    }\n",
              "</style>\n",
              "<table border=\"1\" class=\"dataframe\">\n",
              "  <thead>\n",
              "    <tr style=\"text-align: right;\">\n",
              "      <th></th>\n",
              "      <th>Accession</th>\n",
              "      <th>TaxID</th>\n",
              "      <th>VirusName</th>\n",
              "      <th>Host</th>\n",
              "      <th>Isolate</th>\n",
              "      <th>Location</th>\n",
              "      <th>Length</th>\n",
              "      <th>Genes</th>\n",
              "      <th>Proteins</th>\n",
              "      <th>MaturePeptides</th>\n",
              "      <th>completeness</th>\n",
              "      <th>releaseDate</th>\n",
              "      <th>updateDate</th>\n",
              "      <th>virus</th>\n",
              "      <th>sequence</th>\n",
              "    </tr>\n",
              "  </thead>\n",
              "  <tbody>\n",
              "    <tr>\n",
              "      <th>0</th>\n",
              "      <td>MN938384.1</td>\n",
              "      <td>2697049</td>\n",
              "      <td>Severe acute respiratory syndrome coronavirus 2</td>\n",
              "      <td>Homo sapiens</td>\n",
              "      <td>2019-nCoV_HKU-SZ-002a_2020</td>\n",
              "      <td>China: Shenzhen</td>\n",
              "      <td>29838</td>\n",
              "      <td>9</td>\n",
              "      <td>9</td>\n",
              "      <td>0</td>\n",
              "      <td>COMPLETE</td>\n",
              "      <td>2020-01-24</td>\n",
              "      <td>2020-02-11</td>\n",
              "      <td>{'lineage': [{'name': 'Viruses', 'taxId': 1023...</td>\n",
              "      <td>CAACCAACTTTCGATCTCTTGTAGATCTGTTCTCTAAACGAACTTT...</td>\n",
              "    </tr>\n",
              "    <tr>\n",
              "      <th>1</th>\n",
              "      <td>MN985325.1</td>\n",
              "      <td>2697049</td>\n",
              "      <td>Severe acute respiratory syndrome coronavirus 2</td>\n",
              "      <td>Homo sapiens</td>\n",
              "      <td>SARS-CoV-2/human/USA/WA-CDC-02982586-001/2020</td>\n",
              "      <td>USA</td>\n",
              "      <td>29882</td>\n",
              "      <td>10</td>\n",
              "      <td>10</td>\n",
              "      <td>0</td>\n",
              "      <td>COMPLETE</td>\n",
              "      <td>2020-01-24</td>\n",
              "      <td>2021-11-08</td>\n",
              "      <td>{'lineage': [{'name': 'Viruses', 'taxId': 1023...</td>\n",
              "      <td>ATTAAAGGTTTATACCTTCCCAGGTAACAAACCAACCAACTTTCGA...</td>\n",
              "    </tr>\n",
              "    <tr>\n",
              "      <th>2</th>\n",
              "      <td>MN975262.1</td>\n",
              "      <td>2697049</td>\n",
              "      <td>Severe acute respiratory syndrome coronavirus 2</td>\n",
              "      <td>Homo sapiens</td>\n",
              "      <td>2019-nCoV_HKU-SZ-005b_2020</td>\n",
              "      <td>China</td>\n",
              "      <td>29891</td>\n",
              "      <td>10</td>\n",
              "      <td>10</td>\n",
              "      <td>0</td>\n",
              "      <td>COMPLETE</td>\n",
              "      <td>2020-01-24</td>\n",
              "      <td>2020-02-11</td>\n",
              "      <td>{'lineage': [{'name': 'Viruses', 'taxId': 1023...</td>\n",
              "      <td>ATTAAAGGTTTATACCTTCCCAGGTAACAAACCAACCAACTTTCGA...</td>\n",
              "    </tr>\n",
              "    <tr>\n",
              "      <th>3</th>\n",
              "      <td>MN988713.1</td>\n",
              "      <td>2697049</td>\n",
              "      <td>Severe acute respiratory syndrome coronavirus 2</td>\n",
              "      <td>Homo sapiens</td>\n",
              "      <td>SARS-CoV-2/human/USA/IL-CDC-02983522-001/2020</td>\n",
              "      <td>USA: Illinois</td>\n",
              "      <td>29882</td>\n",
              "      <td>10</td>\n",
              "      <td>10</td>\n",
              "      <td>0</td>\n",
              "      <td>COMPLETE</td>\n",
              "      <td>2020-01-25</td>\n",
              "      <td>2021-11-08</td>\n",
              "      <td>{'lineage': [{'name': 'Viruses', 'taxId': 1023...</td>\n",
              "      <td>ATTAAAGGTTTATACCTTCCCAGGTAACAAACCAACCAACTTTCGA...</td>\n",
              "    </tr>\n",
              "    <tr>\n",
              "      <th>4</th>\n",
              "      <td>MN997409.1</td>\n",
              "      <td>2697049</td>\n",
              "      <td>Severe acute respiratory syndrome coronavirus 2</td>\n",
              "      <td>Homo sapiens</td>\n",
              "      <td>SARS-CoV-2/human/USA/AZ-CDC-02993465-001/2020</td>\n",
              "      <td>USA: AZ</td>\n",
              "      <td>29882</td>\n",
              "      <td>10</td>\n",
              "      <td>10</td>\n",
              "      <td>0</td>\n",
              "      <td>COMPLETE</td>\n",
              "      <td>2020-01-28</td>\n",
              "      <td>2021-11-08</td>\n",
              "      <td>{'lineage': [{'name': 'Viruses', 'taxId': 1023...</td>\n",
              "      <td>ATTAAAGGTTTATACCTTCCCAGGTAACAAACCAACCAACTTTCGA...</td>\n",
              "    </tr>\n",
              "    <tr>\n",
              "      <th>...</th>\n",
              "      <td>...</td>\n",
              "      <td>...</td>\n",
              "      <td>...</td>\n",
              "      <td>...</td>\n",
              "      <td>...</td>\n",
              "      <td>...</td>\n",
              "      <td>...</td>\n",
              "      <td>...</td>\n",
              "      <td>...</td>\n",
              "      <td>...</td>\n",
              "      <td>...</td>\n",
              "      <td>...</td>\n",
              "      <td>...</td>\n",
              "      <td>...</td>\n",
              "      <td>...</td>\n",
              "    </tr>\n",
              "    <tr>\n",
              "      <th>529</th>\n",
              "      <td>MT318829.1</td>\n",
              "      <td>2697049</td>\n",
              "      <td>Severe acute respiratory syndrome coronavirus 2</td>\n",
              "      <td>Homo sapiens</td>\n",
              "      <td>SARS-CoV-2/human/CHN/ZJNB4794/2020</td>\n",
              "      <td>None</td>\n",
              "      <td>29870</td>\n",
              "      <td>11</td>\n",
              "      <td>12</td>\n",
              "      <td>26</td>\n",
              "      <td>COMPLETE</td>\n",
              "      <td>2022-01-31</td>\n",
              "      <td>2022-01-31</td>\n",
              "      <td>{'lineage': [{'name': 'Viruses', 'taxId': 1023...</td>\n",
              "      <td>TTCCCAGGTAACAAACCAACCAACTTTCGATCTCTTGTAGATCTGT...</td>\n",
              "    </tr>\n",
              "    <tr>\n",
              "      <th>530</th>\n",
              "      <td>MT318828.1</td>\n",
              "      <td>2697049</td>\n",
              "      <td>Severe acute respiratory syndrome coronavirus 2</td>\n",
              "      <td>Homo sapiens</td>\n",
              "      <td>SARS-CoV-2/human/CHN/ZJNB016/2020</td>\n",
              "      <td>None</td>\n",
              "      <td>29828</td>\n",
              "      <td>11</td>\n",
              "      <td>12</td>\n",
              "      <td>26</td>\n",
              "      <td>COMPLETE</td>\n",
              "      <td>2022-01-31</td>\n",
              "      <td>2022-01-31</td>\n",
              "      <td>{'lineage': [{'name': 'Viruses', 'taxId': 1023...</td>\n",
              "      <td>CTGTTCTCTAAACGAACTTTAAAATCTGTGTGGCTGTCACTCGGCT...</td>\n",
              "    </tr>\n",
              "    <tr>\n",
              "      <th>531</th>\n",
              "      <td>OM692350.1</td>\n",
              "      <td>2697049</td>\n",
              "      <td>Severe acute respiratory syndrome coronavirus 2</td>\n",
              "      <td>Homo sapiens</td>\n",
              "      <td>SARS-CoV-2/human/KOR/KCDC03-NCCP43326/2021</td>\n",
              "      <td>South Korea</td>\n",
              "      <td>29848</td>\n",
              "      <td>11</td>\n",
              "      <td>12</td>\n",
              "      <td>26</td>\n",
              "      <td>COMPLETE</td>\n",
              "      <td>2022-02-15</td>\n",
              "      <td>2022-02-15</td>\n",
              "      <td>{'lineage': [{'name': 'Viruses', 'taxId': 1023...</td>\n",
              "      <td>ATACCTTCCCAGGTAACAAACCAACCAACTTTCGATCTCTTGTAGA...</td>\n",
              "    </tr>\n",
              "    <tr>\n",
              "      <th>532</th>\n",
              "      <td>OM739099.1</td>\n",
              "      <td>2697049</td>\n",
              "      <td>Severe acute respiratory syndrome coronavirus 2</td>\n",
              "      <td>Homo sapiens</td>\n",
              "      <td>SARS-CoV-2/human/SouthAfrica/NHLS-UCT-GS-2931/...</td>\n",
              "      <td>South Africa</td>\n",
              "      <td>29822</td>\n",
              "      <td>11</td>\n",
              "      <td>12</td>\n",
              "      <td>26</td>\n",
              "      <td>COMPLETE</td>\n",
              "      <td>2022-02-18</td>\n",
              "      <td>2022-02-18</td>\n",
              "      <td>{'lineage': [{'name': 'Viruses', 'taxId': 1023...</td>\n",
              "      <td>ACTTTCGATCTCTTGTAGATCTGTTCTCTAAACGAACTTTAAAATC...</td>\n",
              "    </tr>\n",
              "    <tr>\n",
              "      <th>533</th>\n",
              "      <td>OM812304.1</td>\n",
              "      <td>2697049</td>\n",
              "      <td>Severe acute respiratory syndrome coronavirus 2</td>\n",
              "      <td>Homo sapiens</td>\n",
              "      <td>SARS-CoV-2/human/USA/UT-UPHL-220216087755/2022</td>\n",
              "      <td>USA</td>\n",
              "      <td>29793</td>\n",
              "      <td>11</td>\n",
              "      <td>12</td>\n",
              "      <td>26</td>\n",
              "      <td>COMPLETE</td>\n",
              "      <td>2022-02-24</td>\n",
              "      <td>2022-02-24</td>\n",
              "      <td>{'lineage': [{'name': 'Viruses', 'taxId': 1023...</td>\n",
              "      <td>AACAAACCAACCAACTTTCGATCTCTTGTAGATCTGTTCTCTAAAC...</td>\n",
              "    </tr>\n",
              "  </tbody>\n",
              "</table>\n",
              "<p>534 rows × 15 columns</p>\n",
              "</div>\n",
              "      <button class=\"colab-df-convert\" onclick=\"convertToInteractive('df-1881e048-62ca-4b7c-be61-dce78e5151fd')\"\n",
              "              title=\"Convert this dataframe to an interactive table.\"\n",
              "              style=\"display:none;\">\n",
              "        \n",
              "  <svg xmlns=\"http://www.w3.org/2000/svg\" height=\"24px\"viewBox=\"0 0 24 24\"\n",
              "       width=\"24px\">\n",
              "    <path d=\"M0 0h24v24H0V0z\" fill=\"none\"/>\n",
              "    <path d=\"M18.56 5.44l.94 2.06.94-2.06 2.06-.94-2.06-.94-.94-2.06-.94 2.06-2.06.94zm-11 1L8.5 8.5l.94-2.06 2.06-.94-2.06-.94L8.5 2.5l-.94 2.06-2.06.94zm10 10l.94 2.06.94-2.06 2.06-.94-2.06-.94-.94-2.06-.94 2.06-2.06.94z\"/><path d=\"M17.41 7.96l-1.37-1.37c-.4-.4-.92-.59-1.43-.59-.52 0-1.04.2-1.43.59L10.3 9.45l-7.72 7.72c-.78.78-.78 2.05 0 2.83L4 21.41c.39.39.9.59 1.41.59.51 0 1.02-.2 1.41-.59l7.78-7.78 2.81-2.81c.8-.78.8-2.07 0-2.86zM5.41 20L4 18.59l7.72-7.72 1.47 1.35L5.41 20z\"/>\n",
              "  </svg>\n",
              "      </button>\n",
              "      \n",
              "  <style>\n",
              "    .colab-df-container {\n",
              "      display:flex;\n",
              "      flex-wrap:wrap;\n",
              "      gap: 12px;\n",
              "    }\n",
              "\n",
              "    .colab-df-convert {\n",
              "      background-color: #E8F0FE;\n",
              "      border: none;\n",
              "      border-radius: 50%;\n",
              "      cursor: pointer;\n",
              "      display: none;\n",
              "      fill: #1967D2;\n",
              "      height: 32px;\n",
              "      padding: 0 0 0 0;\n",
              "      width: 32px;\n",
              "    }\n",
              "\n",
              "    .colab-df-convert:hover {\n",
              "      background-color: #E2EBFA;\n",
              "      box-shadow: 0px 1px 2px rgba(60, 64, 67, 0.3), 0px 1px 3px 1px rgba(60, 64, 67, 0.15);\n",
              "      fill: #174EA6;\n",
              "    }\n",
              "\n",
              "    [theme=dark] .colab-df-convert {\n",
              "      background-color: #3B4455;\n",
              "      fill: #D2E3FC;\n",
              "    }\n",
              "\n",
              "    [theme=dark] .colab-df-convert:hover {\n",
              "      background-color: #434B5C;\n",
              "      box-shadow: 0px 1px 3px 1px rgba(0, 0, 0, 0.15);\n",
              "      filter: drop-shadow(0px 1px 2px rgba(0, 0, 0, 0.3));\n",
              "      fill: #FFFFFF;\n",
              "    }\n",
              "  </style>\n",
              "\n",
              "      <script>\n",
              "        const buttonEl =\n",
              "          document.querySelector('#df-1881e048-62ca-4b7c-be61-dce78e5151fd button.colab-df-convert');\n",
              "        buttonEl.style.display =\n",
              "          google.colab.kernel.accessAllowed ? 'block' : 'none';\n",
              "\n",
              "        async function convertToInteractive(key) {\n",
              "          const element = document.querySelector('#df-1881e048-62ca-4b7c-be61-dce78e5151fd');\n",
              "          const dataTable =\n",
              "            await google.colab.kernel.invokeFunction('convertToInteractive',\n",
              "                                                     [key], {});\n",
              "          if (!dataTable) return;\n",
              "\n",
              "          const docLinkHtml = 'Like what you see? Visit the ' +\n",
              "            '<a target=\"_blank\" href=https://colab.research.google.com/notebooks/data_table.ipynb>data table notebook</a>'\n",
              "            + ' to learn more about interactive tables.';\n",
              "          element.innerHTML = '';\n",
              "          dataTable['output_type'] = 'display_data';\n",
              "          await google.colab.output.renderOutput(dataTable, element);\n",
              "          const docLink = document.createElement('div');\n",
              "          docLink.innerHTML = docLinkHtml;\n",
              "          element.appendChild(docLink);\n",
              "        }\n",
              "      </script>\n",
              "    </div>\n",
              "  </div>\n",
              "  "
            ]
          },
          "metadata": {},
          "execution_count": 17
        }
      ]
    },
    {
      "cell_type": "markdown",
      "source": [
        "## Modules"
      ],
      "metadata": {
        "id": "RTTCXQis14Xg"
      }
    },
    {
      "cell_type": "markdown",
      "source": [
        "### rank"
      ],
      "metadata": {
        "id": "zbt_9ARnZfJ5"
      }
    },
    {
      "cell_type": "markdown",
      "source": [
        "#### string"
      ],
      "metadata": {
        "id": "I7StQk2E1liJ"
      }
    },
    {
      "cell_type": "code",
      "source": [
        "from UDR.rank.string import rank_subsequences"
      ],
      "metadata": {
        "id": "dsEGk45FwlhZ"
      },
      "execution_count": null,
      "outputs": []
    },
    {
      "cell_type": "markdown",
      "source": [
        "##### subsequences"
      ],
      "metadata": {
        "id": "xYnePJ5a2Bv3"
      }
    },
    {
      "cell_type": "markdown",
      "source": [
        "Get top 10 in rank for subsequences:"
      ],
      "metadata": {
        "id": "QJ3MKMYn6jtT"
      }
    },
    {
      "cell_type": "code",
      "source": [
        "rank_subsequences(df.iloc[0,-1], window_size = 3)[:10]"
      ],
      "metadata": {
        "colab": {
          "base_uri": "https://localhost:8080/"
        },
        "id": "wWJvVnoYSEGm",
        "outputId": "d44bef94-14d5-4f21-8180-0abaa8f6aa6b"
      },
      "execution_count": null,
      "outputs": [
        {
          "output_type": "execute_result",
          "data": {
            "text/plain": [
              "[('TTT', 1003),\n",
              " ('AAA', 890),\n",
              " ('TTA', 873),\n",
              " ('TGT', 858),\n",
              " ('TTG', 818),\n",
              " ('ACA', 807),\n",
              " ('ATT', 772),\n",
              " ('AAT', 761),\n",
              " ('CTT', 737),\n",
              " ('ATG', 725)]"
            ]
          },
          "metadata": {},
          "execution_count": 19
        }
      ]
    },
    {
      "cell_type": "markdown",
      "source": [
        "##### get_ngrams"
      ],
      "metadata": {
        "id": "vi6GQrTm2EQw"
      }
    },
    {
      "cell_type": "code",
      "source": [
        "from UDR.rank.string import get_ngrams"
      ],
      "metadata": {
        "id": "niwgadqA7mZv"
      },
      "execution_count": null,
      "outputs": []
    },
    {
      "cell_type": "code",
      "source": [
        "get_ngrams(\"abccabcabcbacbacbacbac\", 1,2)"
      ],
      "metadata": {
        "colab": {
          "base_uri": "https://localhost:8080/"
        },
        "id": "JZwE56Cr79-o",
        "outputId": "c9677f91-4c47-4633-9ab7-503f2a590617"
      },
      "execution_count": null,
      "outputs": [
        {
          "output_type": "execute_result",
          "data": {
            "text/plain": [
              "[('cb', 4), ('ba', 4), ('bc', 3), ('ac', 3), ('ca', 2), ('ab', 2), ('cc', 1)]"
            ]
          },
          "metadata": {},
          "execution_count": 21
        }
      ]
    },
    {
      "cell_type": "code",
      "source": [
        "get_ngrams(df.iloc[0,-1])[:10]"
      ],
      "metadata": {
        "colab": {
          "base_uri": "https://localhost:8080/"
        },
        "id": "xdlSJTb7ZjQB",
        "outputId": "38e0c617-bf81-4996-cf55-6d1858474235"
      },
      "execution_count": null,
      "outputs": [
        {
          "output_type": "execute_result",
          "data": {
            "text/plain": [
              "[('TGGTGTTTA', 5),\n",
              " ('TAATGGTGT', 4),\n",
              " ('TAAACGAAC', 4),\n",
              " ('GTTGATGGT', 4),\n",
              " ('TTTTGGTGA', 3),\n",
              " ('TTTGTAGTT', 3),\n",
              " ('TTTAGATTC', 3),\n",
              " ('TTTAATGTT', 3),\n",
              " ('TTTAAGGAA', 3),\n",
              " ('TTCTTTAAG', 3)]"
            ]
          },
          "metadata": {},
          "execution_count": 22
        }
      ]
    },
    {
      "cell_type": "markdown",
      "source": [
        "#### rank_matrix"
      ],
      "metadata": {
        "id": "RbDk6h9AZkRN"
      }
    },
    {
      "cell_type": "markdown",
      "source": [
        "##### get_rank_matrix"
      ],
      "metadata": {
        "id": "9QN8ykcc2QBo"
      }
    },
    {
      "cell_type": "code",
      "source": [
        "from UDR.rank.rank_matrix import get_rank_matrix"
      ],
      "metadata": {
        "id": "eG4m-oDgSxiH"
      },
      "execution_count": null,
      "outputs": []
    },
    {
      "cell_type": "code",
      "source": [
        "rank_matrix_codon_freqs = get_rank_matrix(rank_subsequences, df, \"sequence\")\n",
        "\n",
        "rank_matrix_codon_freqs"
      ],
      "metadata": {
        "colab": {
          "base_uri": "https://localhost:8080/",
          "height": 500,
          "referenced_widgets": [
            "3a2273718e4242a4b39619e6f9035177",
            "d86ecad0501a4444bad5f69cd9c61ec5",
            "59178bad60e0445caff0726aeaa65fc6",
            "d2b19abbf8a5439bb1e0608b4a784d67",
            "3d4d5547ff4c4243b852a9b3d07be389",
            "d295e55226824dbb8de8ceaacc2ed3f6",
            "f8df24dee5494ac1820d2929a80db263",
            "2c0a062321a744bbaee867b29f626801",
            "21746c5a5d28407d9a6430e8ee0028a4",
            "b2b2dbcf1ee145af9f3fc02e936b9cb7",
            "8f6c60599b5f457d989f331dc6e92091"
          ]
        },
        "id": "ksyqj_2ROZjJ",
        "outputId": "06725ed0-460d-4133-d1f6-6b39bf6b9180"
      },
      "execution_count": null,
      "outputs": [
        {
          "output_type": "display_data",
          "data": {
            "text/plain": [
              "Creating Ranking Matrix:   0%|          | 0/534 [00:00<?, ?it/s]"
            ],
            "application/vnd.jupyter.widget-view+json": {
              "version_major": 2,
              "version_minor": 0,
              "model_id": "3a2273718e4242a4b39619e6f9035177"
            }
          },
          "metadata": {}
        },
        {
          "output_type": "execute_result",
          "data": {
            "text/plain": [
              "      0    0    0    0    0    0    0    0    0    0  ...    0    0    0    0  \\\n",
              "0   TTT  TTT  TTT  TCT  TTT  TTT  TTT  TTT  TTT  TTT  ...  TTT  TTT  TTT  TTT   \n",
              "1   AAA  AAA  AAA  CTT  AAA  AAA  AAA  AAA  AAA  AAA  ...  TTA  TTA  AAA  TTA   \n",
              "2   TTA  TTA  TTA  AAC  TTA  TTA  TTA  TTA  TTA  TTA  ...  TGT  TGT  TTA  TGT   \n",
              "3   TGT  TGT  TGT  TGT  TGT  TGT  TGT  TGT  TGT  TGT  ...  AAA  AAA  TGT  AAA   \n",
              "4   TTG  TTG  TTG  TAA  TTG  TTG  TTG  TTG  TTG  TTG  ...  TTG  TTG  TTG  ACA   \n",
              "..  ...  ...  ...  ...  ...  ...  ...  ...  ...  ...  ...  ...  ...  ...  ...   \n",
              "92  NaN  NaN  NaN  NaN  NaN  NaN  NaN  NaN  NaN  NaN  ...  NaN  NaN  NaN  NaN   \n",
              "93  NaN  NaN  NaN  NaN  NaN  NaN  NaN  NaN  NaN  NaN  ...  NaN  NaN  NaN  NaN   \n",
              "94  NaN  NaN  NaN  NaN  NaN  NaN  NaN  NaN  NaN  NaN  ...  NaN  NaN  NaN  NaN   \n",
              "95  NaN  NaN  NaN  NaN  NaN  NaN  NaN  NaN  NaN  NaN  ...  NaN  NaN  NaN  NaN   \n",
              "96  NaN  NaN  NaN  NaN  NaN  NaN  NaN  NaN  NaN  NaN  ...  NaN  NaN  NaN  NaN   \n",
              "\n",
              "      0    0    0    0    0    0  \n",
              "0   TTT  TTT  TTT  TTT  TTT  TTT  \n",
              "1   AAA  AAA  AAA  AAA  AAA  AAA  \n",
              "2   TTA  TTA  TTA  TTA  TTA  TTA  \n",
              "3   TGT  TGT  TGT  TGT  TGT  TGT  \n",
              "4   TTG  TTG  TTG  TTG  TTG  TTG  \n",
              "..  ...  ...  ...  ...  ...  ...  \n",
              "92  NaN  NaN  NaN  NaN  NaN  NaN  \n",
              "93  NaN  NaN  NaN  NaN  NaN  NaN  \n",
              "94  NaN  NaN  NaN  NaN  NaN  NaN  \n",
              "95  NaN  NaN  NaN  NaN  NaN  NaN  \n",
              "96  NaN  NaN  NaN  NaN  NaN  NaN  \n",
              "\n",
              "[97 rows x 534 columns]"
            ],
            "text/html": [
              "\n",
              "  <div id=\"df-a20d703e-d829-4e2a-b3c5-635783d09823\">\n",
              "    <div class=\"colab-df-container\">\n",
              "      <div>\n",
              "<style scoped>\n",
              "    .dataframe tbody tr th:only-of-type {\n",
              "        vertical-align: middle;\n",
              "    }\n",
              "\n",
              "    .dataframe tbody tr th {\n",
              "        vertical-align: top;\n",
              "    }\n",
              "\n",
              "    .dataframe thead th {\n",
              "        text-align: right;\n",
              "    }\n",
              "</style>\n",
              "<table border=\"1\" class=\"dataframe\">\n",
              "  <thead>\n",
              "    <tr style=\"text-align: right;\">\n",
              "      <th></th>\n",
              "      <th>0</th>\n",
              "      <th>0</th>\n",
              "      <th>0</th>\n",
              "      <th>0</th>\n",
              "      <th>0</th>\n",
              "      <th>0</th>\n",
              "      <th>0</th>\n",
              "      <th>0</th>\n",
              "      <th>0</th>\n",
              "      <th>0</th>\n",
              "      <th>...</th>\n",
              "      <th>0</th>\n",
              "      <th>0</th>\n",
              "      <th>0</th>\n",
              "      <th>0</th>\n",
              "      <th>0</th>\n",
              "      <th>0</th>\n",
              "      <th>0</th>\n",
              "      <th>0</th>\n",
              "      <th>0</th>\n",
              "      <th>0</th>\n",
              "    </tr>\n",
              "  </thead>\n",
              "  <tbody>\n",
              "    <tr>\n",
              "      <th>0</th>\n",
              "      <td>TTT</td>\n",
              "      <td>TTT</td>\n",
              "      <td>TTT</td>\n",
              "      <td>TCT</td>\n",
              "      <td>TTT</td>\n",
              "      <td>TTT</td>\n",
              "      <td>TTT</td>\n",
              "      <td>TTT</td>\n",
              "      <td>TTT</td>\n",
              "      <td>TTT</td>\n",
              "      <td>...</td>\n",
              "      <td>TTT</td>\n",
              "      <td>TTT</td>\n",
              "      <td>TTT</td>\n",
              "      <td>TTT</td>\n",
              "      <td>TTT</td>\n",
              "      <td>TTT</td>\n",
              "      <td>TTT</td>\n",
              "      <td>TTT</td>\n",
              "      <td>TTT</td>\n",
              "      <td>TTT</td>\n",
              "    </tr>\n",
              "    <tr>\n",
              "      <th>1</th>\n",
              "      <td>AAA</td>\n",
              "      <td>AAA</td>\n",
              "      <td>AAA</td>\n",
              "      <td>CTT</td>\n",
              "      <td>AAA</td>\n",
              "      <td>AAA</td>\n",
              "      <td>AAA</td>\n",
              "      <td>AAA</td>\n",
              "      <td>AAA</td>\n",
              "      <td>AAA</td>\n",
              "      <td>...</td>\n",
              "      <td>TTA</td>\n",
              "      <td>TTA</td>\n",
              "      <td>AAA</td>\n",
              "      <td>TTA</td>\n",
              "      <td>AAA</td>\n",
              "      <td>AAA</td>\n",
              "      <td>AAA</td>\n",
              "      <td>AAA</td>\n",
              "      <td>AAA</td>\n",
              "      <td>AAA</td>\n",
              "    </tr>\n",
              "    <tr>\n",
              "      <th>2</th>\n",
              "      <td>TTA</td>\n",
              "      <td>TTA</td>\n",
              "      <td>TTA</td>\n",
              "      <td>AAC</td>\n",
              "      <td>TTA</td>\n",
              "      <td>TTA</td>\n",
              "      <td>TTA</td>\n",
              "      <td>TTA</td>\n",
              "      <td>TTA</td>\n",
              "      <td>TTA</td>\n",
              "      <td>...</td>\n",
              "      <td>TGT</td>\n",
              "      <td>TGT</td>\n",
              "      <td>TTA</td>\n",
              "      <td>TGT</td>\n",
              "      <td>TTA</td>\n",
              "      <td>TTA</td>\n",
              "      <td>TTA</td>\n",
              "      <td>TTA</td>\n",
              "      <td>TTA</td>\n",
              "      <td>TTA</td>\n",
              "    </tr>\n",
              "    <tr>\n",
              "      <th>3</th>\n",
              "      <td>TGT</td>\n",
              "      <td>TGT</td>\n",
              "      <td>TGT</td>\n",
              "      <td>TGT</td>\n",
              "      <td>TGT</td>\n",
              "      <td>TGT</td>\n",
              "      <td>TGT</td>\n",
              "      <td>TGT</td>\n",
              "      <td>TGT</td>\n",
              "      <td>TGT</td>\n",
              "      <td>...</td>\n",
              "      <td>AAA</td>\n",
              "      <td>AAA</td>\n",
              "      <td>TGT</td>\n",
              "      <td>AAA</td>\n",
              "      <td>TGT</td>\n",
              "      <td>TGT</td>\n",
              "      <td>TGT</td>\n",
              "      <td>TGT</td>\n",
              "      <td>TGT</td>\n",
              "      <td>TGT</td>\n",
              "    </tr>\n",
              "    <tr>\n",
              "      <th>4</th>\n",
              "      <td>TTG</td>\n",
              "      <td>TTG</td>\n",
              "      <td>TTG</td>\n",
              "      <td>TAA</td>\n",
              "      <td>TTG</td>\n",
              "      <td>TTG</td>\n",
              "      <td>TTG</td>\n",
              "      <td>TTG</td>\n",
              "      <td>TTG</td>\n",
              "      <td>TTG</td>\n",
              "      <td>...</td>\n",
              "      <td>TTG</td>\n",
              "      <td>TTG</td>\n",
              "      <td>TTG</td>\n",
              "      <td>ACA</td>\n",
              "      <td>TTG</td>\n",
              "      <td>TTG</td>\n",
              "      <td>TTG</td>\n",
              "      <td>TTG</td>\n",
              "      <td>TTG</td>\n",
              "      <td>TTG</td>\n",
              "    </tr>\n",
              "    <tr>\n",
              "      <th>...</th>\n",
              "      <td>...</td>\n",
              "      <td>...</td>\n",
              "      <td>...</td>\n",
              "      <td>...</td>\n",
              "      <td>...</td>\n",
              "      <td>...</td>\n",
              "      <td>...</td>\n",
              "      <td>...</td>\n",
              "      <td>...</td>\n",
              "      <td>...</td>\n",
              "      <td>...</td>\n",
              "      <td>...</td>\n",
              "      <td>...</td>\n",
              "      <td>...</td>\n",
              "      <td>...</td>\n",
              "      <td>...</td>\n",
              "      <td>...</td>\n",
              "      <td>...</td>\n",
              "      <td>...</td>\n",
              "      <td>...</td>\n",
              "      <td>...</td>\n",
              "    </tr>\n",
              "    <tr>\n",
              "      <th>92</th>\n",
              "      <td>NaN</td>\n",
              "      <td>NaN</td>\n",
              "      <td>NaN</td>\n",
              "      <td>NaN</td>\n",
              "      <td>NaN</td>\n",
              "      <td>NaN</td>\n",
              "      <td>NaN</td>\n",
              "      <td>NaN</td>\n",
              "      <td>NaN</td>\n",
              "      <td>NaN</td>\n",
              "      <td>...</td>\n",
              "      <td>NaN</td>\n",
              "      <td>NaN</td>\n",
              "      <td>NaN</td>\n",
              "      <td>NaN</td>\n",
              "      <td>NaN</td>\n",
              "      <td>NaN</td>\n",
              "      <td>NaN</td>\n",
              "      <td>NaN</td>\n",
              "      <td>NaN</td>\n",
              "      <td>NaN</td>\n",
              "    </tr>\n",
              "    <tr>\n",
              "      <th>93</th>\n",
              "      <td>NaN</td>\n",
              "      <td>NaN</td>\n",
              "      <td>NaN</td>\n",
              "      <td>NaN</td>\n",
              "      <td>NaN</td>\n",
              "      <td>NaN</td>\n",
              "      <td>NaN</td>\n",
              "      <td>NaN</td>\n",
              "      <td>NaN</td>\n",
              "      <td>NaN</td>\n",
              "      <td>...</td>\n",
              "      <td>NaN</td>\n",
              "      <td>NaN</td>\n",
              "      <td>NaN</td>\n",
              "      <td>NaN</td>\n",
              "      <td>NaN</td>\n",
              "      <td>NaN</td>\n",
              "      <td>NaN</td>\n",
              "      <td>NaN</td>\n",
              "      <td>NaN</td>\n",
              "      <td>NaN</td>\n",
              "    </tr>\n",
              "    <tr>\n",
              "      <th>94</th>\n",
              "      <td>NaN</td>\n",
              "      <td>NaN</td>\n",
              "      <td>NaN</td>\n",
              "      <td>NaN</td>\n",
              "      <td>NaN</td>\n",
              "      <td>NaN</td>\n",
              "      <td>NaN</td>\n",
              "      <td>NaN</td>\n",
              "      <td>NaN</td>\n",
              "      <td>NaN</td>\n",
              "      <td>...</td>\n",
              "      <td>NaN</td>\n",
              "      <td>NaN</td>\n",
              "      <td>NaN</td>\n",
              "      <td>NaN</td>\n",
              "      <td>NaN</td>\n",
              "      <td>NaN</td>\n",
              "      <td>NaN</td>\n",
              "      <td>NaN</td>\n",
              "      <td>NaN</td>\n",
              "      <td>NaN</td>\n",
              "    </tr>\n",
              "    <tr>\n",
              "      <th>95</th>\n",
              "      <td>NaN</td>\n",
              "      <td>NaN</td>\n",
              "      <td>NaN</td>\n",
              "      <td>NaN</td>\n",
              "      <td>NaN</td>\n",
              "      <td>NaN</td>\n",
              "      <td>NaN</td>\n",
              "      <td>NaN</td>\n",
              "      <td>NaN</td>\n",
              "      <td>NaN</td>\n",
              "      <td>...</td>\n",
              "      <td>NaN</td>\n",
              "      <td>NaN</td>\n",
              "      <td>NaN</td>\n",
              "      <td>NaN</td>\n",
              "      <td>NaN</td>\n",
              "      <td>NaN</td>\n",
              "      <td>NaN</td>\n",
              "      <td>NaN</td>\n",
              "      <td>NaN</td>\n",
              "      <td>NaN</td>\n",
              "    </tr>\n",
              "    <tr>\n",
              "      <th>96</th>\n",
              "      <td>NaN</td>\n",
              "      <td>NaN</td>\n",
              "      <td>NaN</td>\n",
              "      <td>NaN</td>\n",
              "      <td>NaN</td>\n",
              "      <td>NaN</td>\n",
              "      <td>NaN</td>\n",
              "      <td>NaN</td>\n",
              "      <td>NaN</td>\n",
              "      <td>NaN</td>\n",
              "      <td>...</td>\n",
              "      <td>NaN</td>\n",
              "      <td>NaN</td>\n",
              "      <td>NaN</td>\n",
              "      <td>NaN</td>\n",
              "      <td>NaN</td>\n",
              "      <td>NaN</td>\n",
              "      <td>NaN</td>\n",
              "      <td>NaN</td>\n",
              "      <td>NaN</td>\n",
              "      <td>NaN</td>\n",
              "    </tr>\n",
              "  </tbody>\n",
              "</table>\n",
              "<p>97 rows × 534 columns</p>\n",
              "</div>\n",
              "      <button class=\"colab-df-convert\" onclick=\"convertToInteractive('df-a20d703e-d829-4e2a-b3c5-635783d09823')\"\n",
              "              title=\"Convert this dataframe to an interactive table.\"\n",
              "              style=\"display:none;\">\n",
              "        \n",
              "  <svg xmlns=\"http://www.w3.org/2000/svg\" height=\"24px\"viewBox=\"0 0 24 24\"\n",
              "       width=\"24px\">\n",
              "    <path d=\"M0 0h24v24H0V0z\" fill=\"none\"/>\n",
              "    <path d=\"M18.56 5.44l.94 2.06.94-2.06 2.06-.94-2.06-.94-.94-2.06-.94 2.06-2.06.94zm-11 1L8.5 8.5l.94-2.06 2.06-.94-2.06-.94L8.5 2.5l-.94 2.06-2.06.94zm10 10l.94 2.06.94-2.06 2.06-.94-2.06-.94-.94-2.06-.94 2.06-2.06.94z\"/><path d=\"M17.41 7.96l-1.37-1.37c-.4-.4-.92-.59-1.43-.59-.52 0-1.04.2-1.43.59L10.3 9.45l-7.72 7.72c-.78.78-.78 2.05 0 2.83L4 21.41c.39.39.9.59 1.41.59.51 0 1.02-.2 1.41-.59l7.78-7.78 2.81-2.81c.8-.78.8-2.07 0-2.86zM5.41 20L4 18.59l7.72-7.72 1.47 1.35L5.41 20z\"/>\n",
              "  </svg>\n",
              "      </button>\n",
              "      \n",
              "  <style>\n",
              "    .colab-df-container {\n",
              "      display:flex;\n",
              "      flex-wrap:wrap;\n",
              "      gap: 12px;\n",
              "    }\n",
              "\n",
              "    .colab-df-convert {\n",
              "      background-color: #E8F0FE;\n",
              "      border: none;\n",
              "      border-radius: 50%;\n",
              "      cursor: pointer;\n",
              "      display: none;\n",
              "      fill: #1967D2;\n",
              "      height: 32px;\n",
              "      padding: 0 0 0 0;\n",
              "      width: 32px;\n",
              "    }\n",
              "\n",
              "    .colab-df-convert:hover {\n",
              "      background-color: #E2EBFA;\n",
              "      box-shadow: 0px 1px 2px rgba(60, 64, 67, 0.3), 0px 1px 3px 1px rgba(60, 64, 67, 0.15);\n",
              "      fill: #174EA6;\n",
              "    }\n",
              "\n",
              "    [theme=dark] .colab-df-convert {\n",
              "      background-color: #3B4455;\n",
              "      fill: #D2E3FC;\n",
              "    }\n",
              "\n",
              "    [theme=dark] .colab-df-convert:hover {\n",
              "      background-color: #434B5C;\n",
              "      box-shadow: 0px 1px 3px 1px rgba(0, 0, 0, 0.15);\n",
              "      filter: drop-shadow(0px 1px 2px rgba(0, 0, 0, 0.3));\n",
              "      fill: #FFFFFF;\n",
              "    }\n",
              "  </style>\n",
              "\n",
              "      <script>\n",
              "        const buttonEl =\n",
              "          document.querySelector('#df-a20d703e-d829-4e2a-b3c5-635783d09823 button.colab-df-convert');\n",
              "        buttonEl.style.display =\n",
              "          google.colab.kernel.accessAllowed ? 'block' : 'none';\n",
              "\n",
              "        async function convertToInteractive(key) {\n",
              "          const element = document.querySelector('#df-a20d703e-d829-4e2a-b3c5-635783d09823');\n",
              "          const dataTable =\n",
              "            await google.colab.kernel.invokeFunction('convertToInteractive',\n",
              "                                                     [key], {});\n",
              "          if (!dataTable) return;\n",
              "\n",
              "          const docLinkHtml = 'Like what you see? Visit the ' +\n",
              "            '<a target=\"_blank\" href=https://colab.research.google.com/notebooks/data_table.ipynb>data table notebook</a>'\n",
              "            + ' to learn more about interactive tables.';\n",
              "          element.innerHTML = '';\n",
              "          dataTable['output_type'] = 'display_data';\n",
              "          await google.colab.output.renderOutput(dataTable, element);\n",
              "          const docLink = document.createElement('div');\n",
              "          docLink.innerHTML = docLinkHtml;\n",
              "          element.appendChild(docLink);\n",
              "        }\n",
              "      </script>\n",
              "    </div>\n",
              "  </div>\n",
              "  "
            ]
          },
          "metadata": {},
          "execution_count": 24
        }
      ]
    },
    {
      "cell_type": "code",
      "source": [
        "rank_matrix_ngrams = get_rank_matrix(get_ngrams, df, \"sequence\")\n",
        "\n",
        "rank_matrix_ngrams"
      ],
      "metadata": {
        "colab": {
          "base_uri": "https://localhost:8080/",
          "height": 49,
          "referenced_widgets": [
            "ef15f282f87640afaeb6935ea5a698f1",
            "6917c1a063b9473581bae150cc6105e8",
            "d7eb13c1a51b49a6853db7da4cea411a",
            "c2070b88a9d04bab9972586a3c14292e",
            "11e4ff8afb724490baa3e29c02e600f8",
            "753c026817ae49cd873305209ce7ddff",
            "fe20bcff97604ed7be06415e114bd914",
            "6e87c5847e2a436697808062e8c34f83",
            "eeaf0cb49562497e8a74fd960ebde3f9",
            "29f7847f02fc4a978088a4cd12ccd44f",
            "d730bdab021940bdbc1bc9a9b71c8c2b"
          ]
        },
        "id": "HhMd-yBRaC4X",
        "outputId": "bcb5dd74-acd3-41df-e427-fed1a68d5e5e"
      },
      "execution_count": null,
      "outputs": [
        {
          "output_type": "display_data",
          "data": {
            "text/plain": [
              "Creating Ranking Matrix:   0%|          | 0/534 [00:00<?, ?it/s]"
            ],
            "application/vnd.jupyter.widget-view+json": {
              "version_major": 2,
              "version_minor": 0,
              "model_id": "ef15f282f87640afaeb6935ea5a698f1"
            }
          },
          "metadata": {}
        }
      ]
    },
    {
      "cell_type": "markdown",
      "source": [
        "### models"
      ],
      "metadata": {
        "id": "PRS1h0m9er5Q"
      }
    },
    {
      "cell_type": "markdown",
      "source": [
        "#### uniform"
      ],
      "metadata": {
        "id": "-T4_MK_f2xAa"
      }
    },
    {
      "cell_type": "markdown",
      "source": [
        "##### null_model"
      ],
      "metadata": {
        "id": "tvA7KBHq2rIK"
      }
    },
    {
      "cell_type": "code",
      "source": [
        "from UDR.models.uniform import null_model"
      ],
      "metadata": {
        "id": "DEjMSMbS20pe"
      },
      "execution_count": null,
      "outputs": []
    },
    {
      "cell_type": "code",
      "source": [
        "params = {}\n",
        "\n",
        "params[\"N\"] = 5\n",
        "params[\"N0\"] = 3\n",
        "params[\"T\"] = 10\n",
        "params[\"ptau\"] = 0.2 # Displacement\n",
        "params[\"pnu\"] = 0.5   # Replacement"
      ],
      "metadata": {
        "id": "dqxN1huw3Hxh"
      },
      "execution_count": null,
      "outputs": []
    },
    {
      "cell_type": "code",
      "source": [
        "rankseries, elemseries, params_new = null_model(params)"
      ],
      "metadata": {
        "id": "PWeWECKH4sS7"
      },
      "execution_count": null,
      "outputs": []
    },
    {
      "cell_type": "code",
      "source": [
        "rankseries"
      ],
      "metadata": {
        "id": "cuBtb7sE498f"
      },
      "execution_count": null,
      "outputs": []
    },
    {
      "cell_type": "code",
      "source": [
        "elemseries"
      ],
      "metadata": {
        "id": "q2RBwfw-4_mj"
      },
      "execution_count": null,
      "outputs": []
    },
    {
      "cell_type": "code",
      "source": [
        "params_new"
      ],
      "metadata": {
        "id": "aXG6egN55CMb"
      },
      "execution_count": null,
      "outputs": []
    },
    {
      "cell_type": "markdown",
      "source": [
        "### metrics"
      ],
      "metadata": {
        "id": "gre0xAIEeoGb"
      }
    },
    {
      "cell_type": "markdown",
      "source": [
        "#### empirical"
      ],
      "metadata": {
        "id": "34tJtEWZep8u"
      }
    },
    {
      "cell_type": "markdown",
      "source": [
        "##### get_data_params"
      ],
      "metadata": {
        "id": "BqXIcbD-2ihD"
      }
    },
    {
      "cell_type": "code",
      "source": [
        "from UDR.metrics.empirical import get_data_params"
      ],
      "metadata": {
        "id": "CSRilj-GP5gg"
      },
      "execution_count": null,
      "outputs": []
    },
    {
      "cell_type": "code",
      "source": [
        "params = get_data_params(rank_matrix_codon_freqs)\n",
        "params"
      ],
      "metadata": {
        "id": "5NWX_wdjerX_"
      },
      "execution_count": null,
      "outputs": []
    },
    {
      "cell_type": "markdown",
      "source": [
        "#### models"
      ],
      "metadata": {
        "id": "AP3LZXaX4Vi-"
      }
    },
    {
      "cell_type": "markdown",
      "source": [
        "##### model_props"
      ],
      "metadata": {
        "id": "O2kl0QK24Xd2"
      }
    },
    {
      "cell_type": "code",
      "source": [
        "import UDR"
      ],
      "metadata": {
        "id": "yhcOeg448Y5Y"
      },
      "execution_count": null,
      "outputs": []
    },
    {
      "cell_type": "code",
      "source": [
        "from UDR.rank.rank_matrix import get_rank_matrix"
      ],
      "metadata": {
        "id": "g809ET1T9Q_M"
      },
      "execution_count": null,
      "outputs": []
    },
    {
      "cell_type": "code",
      "source": [
        "from UDR.metrics.models import model_props"
      ],
      "metadata": {
        "id": "PigRWVfySHyx"
      },
      "execution_count": null,
      "outputs": []
    },
    {
      "cell_type": "code",
      "source": [
        "def get_matrix_properties(rank_matrix, ptau, pnu, ntimes, sel_rank, prop_names):\n",
        "  # Initialize data params\n",
        "  params = get_data_params(rank_matrix)\n",
        "\n",
        "  # Needs model's ptau and pnu params\n",
        "  params[\"ptau\"] = ptau # Displacement\n",
        "  params[\"pnu\"] = pnu   # Replacement\n",
        "\n",
        "  # Number of simulations\n",
        "  params[\"ntimes\"] = ntimes   # Replacement\n",
        "\n",
        "  params['sel_rank'] = sel_rank\n",
        "\n",
        "  # Properties\n",
        "\n",
        "  prop_dict  = model_props( prop_names, params, loadflag='n', saveloc='', saveflag='n' )\n",
        "  # Needs model's ptau and pnu params\n",
        "  params['ptau'] = ptau # Displacement\n",
        "  params['pnu'] = pnu   # Replacement\n",
        "  print(params)\n",
        "  # Instanciate model\n",
        "  rankseries, elemseries, params_new = null_model(params)\n",
        "  "
      ],
      "metadata": {
        "id": "0qHZLlwlYoQy"
      },
      "execution_count": null,
      "outputs": []
    },
    {
      "cell_type": "code",
      "source": [
        "import random\n",
        "\n",
        "random.seed(0)\n",
        "\n",
        "prop_names = ['flux' , 'rank', 'rank', 'open', 'disp', 'succ', 'samp', 'mle']\n",
        "get_matrix_properties(rank_matrix_codon_freqs, \n",
        "                      ptau=0.5, pnu=0.5, ntimes = 100, sel_rank = 0, \n",
        "                      prop_names = prop_names)"
      ],
      "metadata": {
        "id": "33bAoCbWi05Q"
      },
      "execution_count": null,
      "outputs": []
    },
    {
      "cell_type": "code",
      "source": [
        ""
      ],
      "metadata": {
        "id": "Q1p4GBtgZURj"
      },
      "execution_count": null,
      "outputs": []
    },
    {
      "cell_type": "code",
      "source": [
        "get_matrix_properties(rank_matrix_ngrams)"
      ],
      "metadata": {
        "id": "7JLA9Q9hfYtS"
      },
      "execution_count": null,
      "outputs": []
    }
  ]
}